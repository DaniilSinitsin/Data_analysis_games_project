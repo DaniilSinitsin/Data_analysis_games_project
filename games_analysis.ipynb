{
 "cells": [
  {
   "cell_type": "markdown",
   "metadata": {},
   "source": [
    "## Сборный проект 1"
   ]
  },
  {
   "cell_type": "markdown",
   "metadata": {},
   "source": [
    "### Описание проекта"
   ]
  },
  {
   "cell_type": "markdown",
   "metadata": {},
   "source": [
    "Вы работаете в интернет-магазине «Стримчик», который продаёт по всему миру компьютерные игры. Из открытых источников доступны исторические данные о продажах игр, оценки пользователей и экспертов, жанры и платформы (например, Xbox или PlayStation). Вам нужно выявить определяющие успешность игры закономерности. Это позволит сделать ставку на потенциально популярный продукт и спланировать рекламные кампании.\n",
    "Перед вами данные до 2016 года. Представим, что сейчас декабрь 2016 г., и вы планируете кампанию на 2017-й. Нужно отработать принцип работы с данными. Неважно, прогнозируете ли вы продажи на 2017 год по данным 2016-го или же 2027-й — по данным 2026 года.\n",
    "В наборе данных попадается аббревиатура ESRB (Entertainment Software Rating Board) — это ассоциация, определяющая возрастной рейтинг компьютерных игр. ESRB оценивает игровой контент и присваивает ему подходящую возрастную категорию, например, «Для взрослых», «Для детей младшего возраста» или «Для подростков»."
   ]
  },
  {
   "cell_type": "markdown",
   "metadata": {},
   "source": [
    "## Оглавление:\n",
    "\n",
    "1. [Изучение данных](#chapter1)<br>\n",
    "2. [Подготовка данных](#chapter2)<br>\n",
    "2.1 [Предобработка данных](#chapter2.1)<br>\n",
    "2.2 [Категоризация данных](#chapter2.2)<br>\n",
    "3. [Исследовательский анализ данных](#chapter3)<br>\n",
    "4. [Портрет пользователей](#chapter4)<br>\n",
    "5. [Проверка гипотез и пояснения](#chapter5)<br>\n",
    "6. [Общий вывод](#chapter5)<br>"
   ]
  },
  {
   "cell_type": "markdown",
   "metadata": {},
   "source": [
    "### Шаг 1. Изучение данных\n",
    "<a class=\"anchor\" id=\"chapter1\"></a>"
   ]
  },
  {
   "cell_type": "markdown",
   "metadata": {},
   "source": [
    "Откроем файл с данными и изучим информацию"
   ]
  },
  {
   "cell_type": "code",
   "execution_count": 2,
   "metadata": {},
   "outputs": [],
   "source": [
    "import pandas as pd\n",
    "import numpy as np\n",
    "import matplotlib.pyplot as plt\n",
    "import math\n",
    "from scipy import stats as st"
   ]
  },
  {
   "cell_type": "markdown",
   "metadata": {},
   "source": [
    "Дополнительно зададим форматы вывода столбцов и колонок в пандас"
   ]
  },
  {
   "cell_type": "code",
   "execution_count": 3,
   "metadata": {},
   "outputs": [
    {
     "name": "stdout",
     "output_type": "stream",
     "text": [
      "100\n",
      "100\n"
     ]
    }
   ],
   "source": [
    "pd.set_option('display.max_rows', 100)\n",
    "pd.set_option('display.max_columns', 100)\n",
    "print(pd.get_option(\"display.max_rows\"))\n",
    "print(pd.get_option(\"display.max_columns\"))"
   ]
  },
  {
   "cell_type": "markdown",
   "metadata": {},
   "source": [
    "Просмотрим сначала 5 первых строк, если все ок, выгрузим все данные"
   ]
  },
  {
   "cell_type": "code",
   "execution_count": 6,
   "metadata": {},
   "outputs": [],
   "source": [
    "df = pd.read_csv('datasets/games.csv', sep=',',nrows = 5)"
   ]
  },
  {
   "cell_type": "code",
   "execution_count": 7,
   "metadata": {},
   "outputs": [
    {
     "data": {
      "text/html": [
       "<div>\n",
       "<style scoped>\n",
       "    .dataframe tbody tr th:only-of-type {\n",
       "        vertical-align: middle;\n",
       "    }\n",
       "\n",
       "    .dataframe tbody tr th {\n",
       "        vertical-align: top;\n",
       "    }\n",
       "\n",
       "    .dataframe thead th {\n",
       "        text-align: right;\n",
       "    }\n",
       "</style>\n",
       "<table border=\"1\" class=\"dataframe\">\n",
       "  <thead>\n",
       "    <tr style=\"text-align: right;\">\n",
       "      <th></th>\n",
       "      <th>Name</th>\n",
       "      <th>Platform</th>\n",
       "      <th>Year_of_Release</th>\n",
       "      <th>Genre</th>\n",
       "      <th>NA_sales</th>\n",
       "      <th>EU_sales</th>\n",
       "      <th>JP_sales</th>\n",
       "      <th>Other_sales</th>\n",
       "      <th>Critic_Score</th>\n",
       "      <th>User_Score</th>\n",
       "      <th>Rating</th>\n",
       "    </tr>\n",
       "  </thead>\n",
       "  <tbody>\n",
       "    <tr>\n",
       "      <td>0</td>\n",
       "      <td>Wii Sports</td>\n",
       "      <td>Wii</td>\n",
       "      <td>2006.0</td>\n",
       "      <td>Sports</td>\n",
       "      <td>41.36</td>\n",
       "      <td>28.96</td>\n",
       "      <td>3.77</td>\n",
       "      <td>8.45</td>\n",
       "      <td>76.0</td>\n",
       "      <td>8.0</td>\n",
       "      <td>E</td>\n",
       "    </tr>\n",
       "    <tr>\n",
       "      <td>1</td>\n",
       "      <td>Super Mario Bros.</td>\n",
       "      <td>NES</td>\n",
       "      <td>1985.0</td>\n",
       "      <td>Platform</td>\n",
       "      <td>29.08</td>\n",
       "      <td>3.58</td>\n",
       "      <td>6.81</td>\n",
       "      <td>0.77</td>\n",
       "      <td>NaN</td>\n",
       "      <td>NaN</td>\n",
       "      <td>NaN</td>\n",
       "    </tr>\n",
       "    <tr>\n",
       "      <td>2</td>\n",
       "      <td>Mario Kart Wii</td>\n",
       "      <td>Wii</td>\n",
       "      <td>2008.0</td>\n",
       "      <td>Racing</td>\n",
       "      <td>15.68</td>\n",
       "      <td>12.76</td>\n",
       "      <td>3.79</td>\n",
       "      <td>3.29</td>\n",
       "      <td>82.0</td>\n",
       "      <td>8.3</td>\n",
       "      <td>E</td>\n",
       "    </tr>\n",
       "    <tr>\n",
       "      <td>3</td>\n",
       "      <td>Wii Sports Resort</td>\n",
       "      <td>Wii</td>\n",
       "      <td>2009.0</td>\n",
       "      <td>Sports</td>\n",
       "      <td>15.61</td>\n",
       "      <td>10.93</td>\n",
       "      <td>3.28</td>\n",
       "      <td>2.95</td>\n",
       "      <td>80.0</td>\n",
       "      <td>8.0</td>\n",
       "      <td>E</td>\n",
       "    </tr>\n",
       "    <tr>\n",
       "      <td>4</td>\n",
       "      <td>Pokemon Red/Pokemon Blue</td>\n",
       "      <td>GB</td>\n",
       "      <td>1996.0</td>\n",
       "      <td>Role-Playing</td>\n",
       "      <td>11.27</td>\n",
       "      <td>8.89</td>\n",
       "      <td>10.22</td>\n",
       "      <td>1.00</td>\n",
       "      <td>NaN</td>\n",
       "      <td>NaN</td>\n",
       "      <td>NaN</td>\n",
       "    </tr>\n",
       "  </tbody>\n",
       "</table>\n",
       "</div>"
      ],
      "text/plain": [
       "                       Name Platform  Year_of_Release         Genre  NA_sales  \\\n",
       "0                Wii Sports      Wii           2006.0        Sports     41.36   \n",
       "1         Super Mario Bros.      NES           1985.0      Platform     29.08   \n",
       "2            Mario Kart Wii      Wii           2008.0        Racing     15.68   \n",
       "3         Wii Sports Resort      Wii           2009.0        Sports     15.61   \n",
       "4  Pokemon Red/Pokemon Blue       GB           1996.0  Role-Playing     11.27   \n",
       "\n",
       "   EU_sales  JP_sales  Other_sales  Critic_Score  User_Score Rating  \n",
       "0     28.96      3.77         8.45          76.0         8.0      E  \n",
       "1      3.58      6.81         0.77           NaN         NaN    NaN  \n",
       "2     12.76      3.79         3.29          82.0         8.3      E  \n",
       "3     10.93      3.28         2.95          80.0         8.0      E  \n",
       "4      8.89     10.22         1.00           NaN         NaN    NaN  "
      ]
     },
     "execution_count": 7,
     "metadata": {},
     "output_type": "execute_result"
    }
   ],
   "source": [
    "df"
   ]
  },
  {
   "cell_type": "markdown",
   "metadata": {},
   "source": [
    "Все окей, теперь выгружаем весь датасет"
   ]
  },
  {
   "cell_type": "code",
   "execution_count": 9,
   "metadata": {},
   "outputs": [],
   "source": [
    "df = pd.read_csv('datasets/games.csv', sep=',')"
   ]
  },
  {
   "cell_type": "markdown",
   "metadata": {},
   "source": [
    "Просмотрим данные и опишем"
   ]
  },
  {
   "cell_type": "code",
   "execution_count": 10,
   "metadata": {},
   "outputs": [
    {
     "data": {
      "text/html": [
       "<div>\n",
       "<style scoped>\n",
       "    .dataframe tbody tr th:only-of-type {\n",
       "        vertical-align: middle;\n",
       "    }\n",
       "\n",
       "    .dataframe tbody tr th {\n",
       "        vertical-align: top;\n",
       "    }\n",
       "\n",
       "    .dataframe thead th {\n",
       "        text-align: right;\n",
       "    }\n",
       "</style>\n",
       "<table border=\"1\" class=\"dataframe\">\n",
       "  <thead>\n",
       "    <tr style=\"text-align: right;\">\n",
       "      <th></th>\n",
       "      <th>Name</th>\n",
       "      <th>Platform</th>\n",
       "      <th>Year_of_Release</th>\n",
       "      <th>Genre</th>\n",
       "      <th>NA_sales</th>\n",
       "      <th>EU_sales</th>\n",
       "      <th>JP_sales</th>\n",
       "      <th>Other_sales</th>\n",
       "      <th>Critic_Score</th>\n",
       "      <th>User_Score</th>\n",
       "      <th>Rating</th>\n",
       "    </tr>\n",
       "  </thead>\n",
       "  <tbody>\n",
       "    <tr>\n",
       "      <td>0</td>\n",
       "      <td>Wii Sports</td>\n",
       "      <td>Wii</td>\n",
       "      <td>2006.0</td>\n",
       "      <td>Sports</td>\n",
       "      <td>41.36</td>\n",
       "      <td>28.96</td>\n",
       "      <td>3.77</td>\n",
       "      <td>8.45</td>\n",
       "      <td>76.0</td>\n",
       "      <td>8</td>\n",
       "      <td>E</td>\n",
       "    </tr>\n",
       "    <tr>\n",
       "      <td>1</td>\n",
       "      <td>Super Mario Bros.</td>\n",
       "      <td>NES</td>\n",
       "      <td>1985.0</td>\n",
       "      <td>Platform</td>\n",
       "      <td>29.08</td>\n",
       "      <td>3.58</td>\n",
       "      <td>6.81</td>\n",
       "      <td>0.77</td>\n",
       "      <td>NaN</td>\n",
       "      <td>NaN</td>\n",
       "      <td>NaN</td>\n",
       "    </tr>\n",
       "    <tr>\n",
       "      <td>2</td>\n",
       "      <td>Mario Kart Wii</td>\n",
       "      <td>Wii</td>\n",
       "      <td>2008.0</td>\n",
       "      <td>Racing</td>\n",
       "      <td>15.68</td>\n",
       "      <td>12.76</td>\n",
       "      <td>3.79</td>\n",
       "      <td>3.29</td>\n",
       "      <td>82.0</td>\n",
       "      <td>8.3</td>\n",
       "      <td>E</td>\n",
       "    </tr>\n",
       "    <tr>\n",
       "      <td>3</td>\n",
       "      <td>Wii Sports Resort</td>\n",
       "      <td>Wii</td>\n",
       "      <td>2009.0</td>\n",
       "      <td>Sports</td>\n",
       "      <td>15.61</td>\n",
       "      <td>10.93</td>\n",
       "      <td>3.28</td>\n",
       "      <td>2.95</td>\n",
       "      <td>80.0</td>\n",
       "      <td>8</td>\n",
       "      <td>E</td>\n",
       "    </tr>\n",
       "    <tr>\n",
       "      <td>4</td>\n",
       "      <td>Pokemon Red/Pokemon Blue</td>\n",
       "      <td>GB</td>\n",
       "      <td>1996.0</td>\n",
       "      <td>Role-Playing</td>\n",
       "      <td>11.27</td>\n",
       "      <td>8.89</td>\n",
       "      <td>10.22</td>\n",
       "      <td>1.00</td>\n",
       "      <td>NaN</td>\n",
       "      <td>NaN</td>\n",
       "      <td>NaN</td>\n",
       "    </tr>\n",
       "  </tbody>\n",
       "</table>\n",
       "</div>"
      ],
      "text/plain": [
       "                       Name Platform  Year_of_Release         Genre  NA_sales  \\\n",
       "0                Wii Sports      Wii           2006.0        Sports     41.36   \n",
       "1         Super Mario Bros.      NES           1985.0      Platform     29.08   \n",
       "2            Mario Kart Wii      Wii           2008.0        Racing     15.68   \n",
       "3         Wii Sports Resort      Wii           2009.0        Sports     15.61   \n",
       "4  Pokemon Red/Pokemon Blue       GB           1996.0  Role-Playing     11.27   \n",
       "\n",
       "   EU_sales  JP_sales  Other_sales  Critic_Score User_Score Rating  \n",
       "0     28.96      3.77         8.45          76.0          8      E  \n",
       "1      3.58      6.81         0.77           NaN        NaN    NaN  \n",
       "2     12.76      3.79         3.29          82.0        8.3      E  \n",
       "3     10.93      3.28         2.95          80.0          8      E  \n",
       "4      8.89     10.22         1.00           NaN        NaN    NaN  "
      ]
     },
     "execution_count": 10,
     "metadata": {},
     "output_type": "execute_result"
    }
   ],
   "source": [
    "df.head()"
   ]
  },
  {
   "cell_type": "code",
   "execution_count": 11,
   "metadata": {},
   "outputs": [
    {
     "name": "stdout",
     "output_type": "stream",
     "text": [
      "<class 'pandas.core.frame.DataFrame'>\n",
      "RangeIndex: 16715 entries, 0 to 16714\n",
      "Data columns (total 11 columns):\n",
      "Name               16713 non-null object\n",
      "Platform           16715 non-null object\n",
      "Year_of_Release    16446 non-null float64\n",
      "Genre              16713 non-null object\n",
      "NA_sales           16715 non-null float64\n",
      "EU_sales           16715 non-null float64\n",
      "JP_sales           16715 non-null float64\n",
      "Other_sales        16715 non-null float64\n",
      "Critic_Score       8137 non-null float64\n",
      "User_Score         10014 non-null object\n",
      "Rating             9949 non-null object\n",
      "dtypes: float64(6), object(5)\n",
      "memory usage: 1.4+ MB\n"
     ]
    }
   ],
   "source": [
    "df.info()"
   ]
  },
  {
   "cell_type": "markdown",
   "metadata": {},
   "source": [
    "### Вывод\n",
    "Мы видим таблицу с историческими данными из открытых источников доступны о продажах игр.\n",
    "\n",
    "- Name — название игры\n",
    "- Platform — платформа\n",
    "- Year_of_Release — год выпуска\n",
    "- Genre — жанр игры\n",
    "- NA_sales — продажи в Северной Америке (миллионы проданных копий)\n",
    "- EU_sales — продажи в Европе (миллионы проданных копий)\n",
    "- JP_sales — продажи в Японии (миллионы проданных копий)\n",
    "- Other_sales — продажи в других странах (миллионы проданных копий)\n",
    "- Critic_Score — оценка критиков (максимум 100)\n",
    "- User_Score — оценка пользователей (максимум 10)\n",
    "- Rating — рейтинг от организации ESRB (англ. Entertainment Software Rating Board). Эта ассоциация определяет рейтинг компьютерных игр и присваивает им подходящую возрастную категорию.\n",
    "- Данные за 2016 год могут быть неполными.\n",
    "\n",
    "В данных есть проблемы с типами, проблемы с верхними регистрами, есть пропуски."
   ]
  },
  {
   "cell_type": "markdown",
   "metadata": {},
   "source": [
    " Полагаю пропуски связаны с нехваткой данных из-за большого периода выпуска игр, возможно рейтинги не столь давно ведут. Еще возможно часть игр не имеет больших продаж и ее даже не оценивали."
   ]
  },
  {
   "cell_type": "markdown",
   "metadata": {},
   "source": [
    "### Шаг 2. Подготовка данных\n",
    "<a class=\"anchor\" id=\"chapter2\"></a>"
   ]
  },
  {
   "cell_type": "markdown",
   "metadata": {},
   "source": [
    "#### Шаг 2.1. Предобработка данных\n",
    "<a class=\"anchor\" id=\"chapter2.1\"></a>"
   ]
  },
  {
   "cell_type": "code",
   "execution_count": 12,
   "metadata": {},
   "outputs": [
    {
     "name": "stdout",
     "output_type": "stream",
     "text": [
      "<class 'pandas.core.frame.DataFrame'>\n",
      "RangeIndex: 16715 entries, 0 to 16714\n",
      "Data columns (total 11 columns):\n",
      "Name               16713 non-null object\n",
      "Platform           16715 non-null object\n",
      "Year_of_Release    16446 non-null float64\n",
      "Genre              16713 non-null object\n",
      "NA_sales           16715 non-null float64\n",
      "EU_sales           16715 non-null float64\n",
      "JP_sales           16715 non-null float64\n",
      "Other_sales        16715 non-null float64\n",
      "Critic_Score       8137 non-null float64\n",
      "User_Score         10014 non-null object\n",
      "Rating             9949 non-null object\n",
      "dtypes: float64(6), object(5)\n",
      "memory usage: 1.4+ MB\n"
     ]
    }
   ],
   "source": [
    "df.info()"
   ]
  },
  {
   "cell_type": "markdown",
   "metadata": {},
   "source": [
    "Приведем колонки к нижнему регистру"
   ]
  },
  {
   "cell_type": "code",
   "execution_count": 13,
   "metadata": {},
   "outputs": [
    {
     "data": {
      "text/plain": [
       "Index(['Name', 'Platform', 'Year_of_Release', 'Genre', 'NA_sales', 'EU_sales',\n",
       "       'JP_sales', 'Other_sales', 'Critic_Score', 'User_Score', 'Rating'],\n",
       "      dtype='object')"
      ]
     },
     "execution_count": 13,
     "metadata": {},
     "output_type": "execute_result"
    }
   ],
   "source": [
    "df.columns"
   ]
  },
  {
   "cell_type": "code",
   "execution_count": 14,
   "metadata": {},
   "outputs": [],
   "source": [
    "df.columns = df.columns.str.lower()"
   ]
  },
  {
   "cell_type": "code",
   "execution_count": 15,
   "metadata": {
    "scrolled": true
   },
   "outputs": [
    {
     "data": {
      "text/plain": [
       "Index(['name', 'platform', 'year_of_release', 'genre', 'na_sales', 'eu_sales',\n",
       "       'jp_sales', 'other_sales', 'critic_score', 'user_score', 'rating'],\n",
       "      dtype='object')"
      ]
     },
     "execution_count": 15,
     "metadata": {},
     "output_type": "execute_result"
    }
   ],
   "source": [
    "df.columns"
   ]
  },
  {
   "cell_type": "markdown",
   "metadata": {},
   "source": [
    "User_score со значениями tbd я бы заменил на NaN, так как выкинуть значения не можем просто, но и если заменим на средние будет не очень логично и еще поменяем формат на float64"
   ]
  },
  {
   "cell_type": "code",
   "execution_count": 16,
   "metadata": {},
   "outputs": [],
   "source": [
    "df['user_score'] = df['user_score'].replace('tbd', np.nan)"
   ]
  },
  {
   "cell_type": "code",
   "execution_count": 17,
   "metadata": {},
   "outputs": [],
   "source": [
    "df['user_score'] = df['user_score'].astype('float64')"
   ]
  },
  {
   "cell_type": "code",
   "execution_count": 18,
   "metadata": {},
   "outputs": [
    {
     "name": "stdout",
     "output_type": "stream",
     "text": [
      "<class 'pandas.core.frame.DataFrame'>\n",
      "RangeIndex: 16715 entries, 0 to 16714\n",
      "Data columns (total 11 columns):\n",
      "name               16713 non-null object\n",
      "platform           16715 non-null object\n",
      "year_of_release    16446 non-null float64\n",
      "genre              16713 non-null object\n",
      "na_sales           16715 non-null float64\n",
      "eu_sales           16715 non-null float64\n",
      "jp_sales           16715 non-null float64\n",
      "other_sales        16715 non-null float64\n",
      "critic_score       8137 non-null float64\n",
      "user_score         7590 non-null float64\n",
      "rating             9949 non-null object\n",
      "dtypes: float64(7), object(4)\n",
      "memory usage: 1.4+ MB\n"
     ]
    }
   ],
   "source": [
    "df.info()"
   ]
  },
  {
   "cell_type": "markdown",
   "metadata": {},
   "source": [
    "Заменим в столбце с рейтингом категориальные данные на количественные с возрастом категории , которые можно будет сравнивать, а пропуски заменим на значения 'no_data' и поменяем формат на float\n",
    " - M - 15+\n",
    " - E - 6+ (everyone)\n",
    " - T - 13+ \n",
    " - E10+ - 10+\n",
    " - K-A - 10+\n",
    " - EC - 3+\n",
    " - AO - 18+\n",
    " - RP - pending "
   ]
  },
  {
   "cell_type": "code",
   "execution_count": 20,
   "metadata": {},
   "outputs": [
    {
     "data": {
      "text/html": [
       "<div>\n",
       "<style scoped>\n",
       "    .dataframe tbody tr th:only-of-type {\n",
       "        vertical-align: middle;\n",
       "    }\n",
       "\n",
       "    .dataframe tbody tr th {\n",
       "        vertical-align: top;\n",
       "    }\n",
       "\n",
       "    .dataframe thead tr th {\n",
       "        text-align: left;\n",
       "    }\n",
       "\n",
       "    .dataframe thead tr:last-of-type th {\n",
       "        text-align: right;\n",
       "    }\n",
       "</style>\n",
       "<table border=\"1\" class=\"dataframe\">\n",
       "  <thead>\n",
       "    <tr>\n",
       "      <th></th>\n",
       "      <th>na_sales</th>\n",
       "    </tr>\n",
       "    <tr>\n",
       "      <th></th>\n",
       "      <th>sum</th>\n",
       "    </tr>\n",
       "    <tr>\n",
       "      <th>rating</th>\n",
       "      <th></th>\n",
       "    </tr>\n",
       "  </thead>\n",
       "  <tbody>\n",
       "    <tr>\n",
       "      <td>E</td>\n",
       "      <td>1292.99</td>\n",
       "    </tr>\n",
       "    <tr>\n",
       "      <td>T</td>\n",
       "      <td>759.75</td>\n",
       "    </tr>\n",
       "    <tr>\n",
       "      <td>M</td>\n",
       "      <td>748.48</td>\n",
       "    </tr>\n",
       "    <tr>\n",
       "      <td>E10+</td>\n",
       "      <td>353.32</td>\n",
       "    </tr>\n",
       "    <tr>\n",
       "      <td>K-A</td>\n",
       "      <td>2.56</td>\n",
       "    </tr>\n",
       "    <tr>\n",
       "      <td>EC</td>\n",
       "      <td>1.53</td>\n",
       "    </tr>\n",
       "    <tr>\n",
       "      <td>AO</td>\n",
       "      <td>1.26</td>\n",
       "    </tr>\n",
       "    <tr>\n",
       "      <td>RP</td>\n",
       "      <td>0.00</td>\n",
       "    </tr>\n",
       "  </tbody>\n",
       "</table>\n",
       "</div>"
      ],
      "text/plain": [
       "       na_sales\n",
       "            sum\n",
       "rating         \n",
       "E       1292.99\n",
       "T        759.75\n",
       "M        748.48\n",
       "E10+     353.32\n",
       "K-A        2.56\n",
       "EC         1.53\n",
       "AO         1.26\n",
       "RP         0.00"
      ]
     },
     "execution_count": 20,
     "metadata": {},
     "output_type": "execute_result"
    }
   ],
   "source": [
    "df_a = (df\n",
    "    .groupby('rating')\n",
    "    .agg({'na_sales':['sum']})\n",
    "    .sort_values(by=('na_sales', 'sum'), ascending=False)\n",
    ")\n",
    "df_a"
   ]
  },
  {
   "cell_type": "code",
   "execution_count": 16,
   "metadata": {},
   "outputs": [],
   "source": [
    "df['rating'] = df['rating'].replace('M', 15)\n",
    "df['rating'] = df['rating'].replace('E', 6)\n",
    "df['rating'] = df['rating'].replace('T', 13)\n",
    "df['rating'] = df['rating'].replace('E10+', 10)\n",
    "df['rating'] = df['rating'].replace('K-A', 10)\n",
    "df['rating'] = df['rating'].replace('EC', 3)\n",
    "df['rating'] = df['rating'].replace('AO', 3)\n",
    "df['rating'] = df['rating'].replace('RP', np.nan)\n"
   ]
  },
  {
   "cell_type": "code",
   "execution_count": 17,
   "metadata": {},
   "outputs": [
    {
     "data": {
      "text/plain": [
       "6.0     3990\n",
       "13.0    2961\n",
       "15.0    1563\n",
       "10.0    1423\n",
       "3.0        9\n",
       "Name: rating, dtype: int64"
      ]
     },
     "execution_count": 17,
     "metadata": {},
     "output_type": "execute_result"
    }
   ],
   "source": [
    "df['rating'].value_counts()"
   ]
  },
  {
   "cell_type": "code",
   "execution_count": 18,
   "metadata": {},
   "outputs": [],
   "source": [
    "df['rating'] = df['rating'].fillna('no_data')"
   ]
  },
  {
   "cell_type": "code",
   "execution_count": 19,
   "metadata": {},
   "outputs": [
    {
     "data": {
      "text/plain": [
       "name               0.000120\n",
       "platform           0.000000\n",
       "year_of_release    0.016093\n",
       "genre              0.000120\n",
       "na_sales           0.000000\n",
       "eu_sales           0.000000\n",
       "jp_sales           0.000000\n",
       "other_sales        0.000000\n",
       "critic_score       0.513192\n",
       "user_score         0.545917\n",
       "rating             0.000000\n",
       "dtype: float64"
      ]
     },
     "execution_count": 19,
     "metadata": {},
     "output_type": "execute_result"
    }
   ],
   "source": [
    "df.isna().mean()"
   ]
  },
  {
   "cell_type": "code",
   "execution_count": 20,
   "metadata": {},
   "outputs": [
    {
     "data": {
      "text/html": [
       "<div>\n",
       "<style scoped>\n",
       "    .dataframe tbody tr th:only-of-type {\n",
       "        vertical-align: middle;\n",
       "    }\n",
       "\n",
       "    .dataframe tbody tr th {\n",
       "        vertical-align: top;\n",
       "    }\n",
       "\n",
       "    .dataframe thead th {\n",
       "        text-align: right;\n",
       "    }\n",
       "</style>\n",
       "<table border=\"1\" class=\"dataframe\">\n",
       "  <thead>\n",
       "    <tr style=\"text-align: right;\">\n",
       "      <th></th>\n",
       "      <th>na_sales</th>\n",
       "      <th>eu_sales</th>\n",
       "      <th>jp_sales</th>\n",
       "      <th>other_sales</th>\n",
       "      <th>critic_score</th>\n",
       "      <th>user_score</th>\n",
       "    </tr>\n",
       "  </thead>\n",
       "  <tbody>\n",
       "    <tr>\n",
       "      <td>count</td>\n",
       "      <td>16715.000000</td>\n",
       "      <td>16715.000000</td>\n",
       "      <td>16715.000000</td>\n",
       "      <td>16715.000000</td>\n",
       "      <td>8137.000000</td>\n",
       "      <td>7590.000000</td>\n",
       "    </tr>\n",
       "    <tr>\n",
       "      <td>mean</td>\n",
       "      <td>0.263377</td>\n",
       "      <td>0.145060</td>\n",
       "      <td>0.077617</td>\n",
       "      <td>0.047342</td>\n",
       "      <td>68.967679</td>\n",
       "      <td>7.125046</td>\n",
       "    </tr>\n",
       "    <tr>\n",
       "      <td>std</td>\n",
       "      <td>0.813604</td>\n",
       "      <td>0.503339</td>\n",
       "      <td>0.308853</td>\n",
       "      <td>0.186731</td>\n",
       "      <td>13.938165</td>\n",
       "      <td>1.500006</td>\n",
       "    </tr>\n",
       "    <tr>\n",
       "      <td>min</td>\n",
       "      <td>0.000000</td>\n",
       "      <td>0.000000</td>\n",
       "      <td>0.000000</td>\n",
       "      <td>0.000000</td>\n",
       "      <td>13.000000</td>\n",
       "      <td>0.000000</td>\n",
       "    </tr>\n",
       "    <tr>\n",
       "      <td>25%</td>\n",
       "      <td>0.000000</td>\n",
       "      <td>0.000000</td>\n",
       "      <td>0.000000</td>\n",
       "      <td>0.000000</td>\n",
       "      <td>60.000000</td>\n",
       "      <td>6.400000</td>\n",
       "    </tr>\n",
       "    <tr>\n",
       "      <td>50%</td>\n",
       "      <td>0.080000</td>\n",
       "      <td>0.020000</td>\n",
       "      <td>0.000000</td>\n",
       "      <td>0.010000</td>\n",
       "      <td>71.000000</td>\n",
       "      <td>7.500000</td>\n",
       "    </tr>\n",
       "    <tr>\n",
       "      <td>75%</td>\n",
       "      <td>0.240000</td>\n",
       "      <td>0.110000</td>\n",
       "      <td>0.040000</td>\n",
       "      <td>0.030000</td>\n",
       "      <td>79.000000</td>\n",
       "      <td>8.200000</td>\n",
       "    </tr>\n",
       "    <tr>\n",
       "      <td>max</td>\n",
       "      <td>41.360000</td>\n",
       "      <td>28.960000</td>\n",
       "      <td>10.220000</td>\n",
       "      <td>10.570000</td>\n",
       "      <td>98.000000</td>\n",
       "      <td>9.700000</td>\n",
       "    </tr>\n",
       "  </tbody>\n",
       "</table>\n",
       "</div>"
      ],
      "text/plain": [
       "           na_sales      eu_sales      jp_sales   other_sales  critic_score  \\\n",
       "count  16715.000000  16715.000000  16715.000000  16715.000000   8137.000000   \n",
       "mean       0.263377      0.145060      0.077617      0.047342     68.967679   \n",
       "std        0.813604      0.503339      0.308853      0.186731     13.938165   \n",
       "min        0.000000      0.000000      0.000000      0.000000     13.000000   \n",
       "25%        0.000000      0.000000      0.000000      0.000000     60.000000   \n",
       "50%        0.080000      0.020000      0.000000      0.010000     71.000000   \n",
       "75%        0.240000      0.110000      0.040000      0.030000     79.000000   \n",
       "max       41.360000     28.960000     10.220000     10.570000     98.000000   \n",
       "\n",
       "        user_score  \n",
       "count  7590.000000  \n",
       "mean      7.125046  \n",
       "std       1.500006  \n",
       "min       0.000000  \n",
       "25%       6.400000  \n",
       "50%       7.500000  \n",
       "75%       8.200000  \n",
       "max       9.700000  "
      ]
     },
     "execution_count": 20,
     "metadata": {},
     "output_type": "execute_result"
    }
   ],
   "source": [
    "df.iloc[:,4:].describe()"
   ]
  },
  {
   "cell_type": "code",
   "execution_count": 21,
   "metadata": {},
   "outputs": [
    {
     "name": "stdout",
     "output_type": "stream",
     "text": [
      "<class 'pandas.core.frame.DataFrame'>\n",
      "RangeIndex: 16715 entries, 0 to 16714\n",
      "Data columns (total 11 columns):\n",
      "name               16713 non-null object\n",
      "platform           16715 non-null object\n",
      "year_of_release    16446 non-null float64\n",
      "genre              16713 non-null object\n",
      "na_sales           16715 non-null float64\n",
      "eu_sales           16715 non-null float64\n",
      "jp_sales           16715 non-null float64\n",
      "other_sales        16715 non-null float64\n",
      "critic_score       8137 non-null float64\n",
      "user_score         7590 non-null float64\n",
      "rating             16715 non-null object\n",
      "dtypes: float64(7), object(4)\n",
      "memory usage: 1.4+ MB\n"
     ]
    }
   ],
   "source": [
    "df.info()"
   ]
  },
  {
   "cell_type": "markdown",
   "metadata": {},
   "source": [
    "Мы обработали данные - убрали проспуки и привели их к общему формату, убрали значения выходящие за рамки логики."
   ]
  },
  {
   "cell_type": "markdown",
   "metadata": {},
   "source": [
    "#### Шаг 2.2. Категоризация данных\n",
    "<a class=\"anchor\" id=\"chapter2.2\"></a>"
   ]
  },
  {
   "cell_type": "markdown",
   "metadata": {},
   "source": [
    "Теперь посчитаем суммарные продажи во всех регионах и запишем их в отдельный столбец"
   ]
  },
  {
   "cell_type": "code",
   "execution_count": 22,
   "metadata": {},
   "outputs": [],
   "source": [
    "df['total_sales'] = df['na_sales'] + df['eu_sales'] + df['jp_sales'] + df['other_sales']"
   ]
  },
  {
   "cell_type": "code",
   "execution_count": 23,
   "metadata": {},
   "outputs": [
    {
     "data": {
      "text/html": [
       "<div>\n",
       "<style scoped>\n",
       "    .dataframe tbody tr th:only-of-type {\n",
       "        vertical-align: middle;\n",
       "    }\n",
       "\n",
       "    .dataframe tbody tr th {\n",
       "        vertical-align: top;\n",
       "    }\n",
       "\n",
       "    .dataframe thead th {\n",
       "        text-align: right;\n",
       "    }\n",
       "</style>\n",
       "<table border=\"1\" class=\"dataframe\">\n",
       "  <thead>\n",
       "    <tr style=\"text-align: right;\">\n",
       "      <th></th>\n",
       "      <th>name</th>\n",
       "      <th>platform</th>\n",
       "      <th>year_of_release</th>\n",
       "      <th>genre</th>\n",
       "      <th>na_sales</th>\n",
       "      <th>eu_sales</th>\n",
       "      <th>jp_sales</th>\n",
       "      <th>other_sales</th>\n",
       "      <th>critic_score</th>\n",
       "      <th>user_score</th>\n",
       "      <th>rating</th>\n",
       "      <th>total_sales</th>\n",
       "    </tr>\n",
       "  </thead>\n",
       "  <tbody>\n",
       "    <tr>\n",
       "      <td>0</td>\n",
       "      <td>Wii Sports</td>\n",
       "      <td>Wii</td>\n",
       "      <td>2006.0</td>\n",
       "      <td>Sports</td>\n",
       "      <td>41.36</td>\n",
       "      <td>28.96</td>\n",
       "      <td>3.77</td>\n",
       "      <td>8.45</td>\n",
       "      <td>76.0</td>\n",
       "      <td>8.0</td>\n",
       "      <td>6</td>\n",
       "      <td>82.54</td>\n",
       "    </tr>\n",
       "    <tr>\n",
       "      <td>1</td>\n",
       "      <td>Super Mario Bros.</td>\n",
       "      <td>NES</td>\n",
       "      <td>1985.0</td>\n",
       "      <td>Platform</td>\n",
       "      <td>29.08</td>\n",
       "      <td>3.58</td>\n",
       "      <td>6.81</td>\n",
       "      <td>0.77</td>\n",
       "      <td>NaN</td>\n",
       "      <td>NaN</td>\n",
       "      <td>no_data</td>\n",
       "      <td>40.24</td>\n",
       "    </tr>\n",
       "    <tr>\n",
       "      <td>2</td>\n",
       "      <td>Mario Kart Wii</td>\n",
       "      <td>Wii</td>\n",
       "      <td>2008.0</td>\n",
       "      <td>Racing</td>\n",
       "      <td>15.68</td>\n",
       "      <td>12.76</td>\n",
       "      <td>3.79</td>\n",
       "      <td>3.29</td>\n",
       "      <td>82.0</td>\n",
       "      <td>8.3</td>\n",
       "      <td>6</td>\n",
       "      <td>35.52</td>\n",
       "    </tr>\n",
       "    <tr>\n",
       "      <td>3</td>\n",
       "      <td>Wii Sports Resort</td>\n",
       "      <td>Wii</td>\n",
       "      <td>2009.0</td>\n",
       "      <td>Sports</td>\n",
       "      <td>15.61</td>\n",
       "      <td>10.93</td>\n",
       "      <td>3.28</td>\n",
       "      <td>2.95</td>\n",
       "      <td>80.0</td>\n",
       "      <td>8.0</td>\n",
       "      <td>6</td>\n",
       "      <td>32.77</td>\n",
       "    </tr>\n",
       "    <tr>\n",
       "      <td>4</td>\n",
       "      <td>Pokemon Red/Pokemon Blue</td>\n",
       "      <td>GB</td>\n",
       "      <td>1996.0</td>\n",
       "      <td>Role-Playing</td>\n",
       "      <td>11.27</td>\n",
       "      <td>8.89</td>\n",
       "      <td>10.22</td>\n",
       "      <td>1.00</td>\n",
       "      <td>NaN</td>\n",
       "      <td>NaN</td>\n",
       "      <td>no_data</td>\n",
       "      <td>31.38</td>\n",
       "    </tr>\n",
       "  </tbody>\n",
       "</table>\n",
       "</div>"
      ],
      "text/plain": [
       "                       name platform  year_of_release         genre  na_sales  \\\n",
       "0                Wii Sports      Wii           2006.0        Sports     41.36   \n",
       "1         Super Mario Bros.      NES           1985.0      Platform     29.08   \n",
       "2            Mario Kart Wii      Wii           2008.0        Racing     15.68   \n",
       "3         Wii Sports Resort      Wii           2009.0        Sports     15.61   \n",
       "4  Pokemon Red/Pokemon Blue       GB           1996.0  Role-Playing     11.27   \n",
       "\n",
       "   eu_sales  jp_sales  other_sales  critic_score  user_score   rating  \\\n",
       "0     28.96      3.77         8.45          76.0         8.0        6   \n",
       "1      3.58      6.81         0.77           NaN         NaN  no_data   \n",
       "2     12.76      3.79         3.29          82.0         8.3        6   \n",
       "3     10.93      3.28         2.95          80.0         8.0        6   \n",
       "4      8.89     10.22         1.00           NaN         NaN  no_data   \n",
       "\n",
       "   total_sales  \n",
       "0        82.54  \n",
       "1        40.24  \n",
       "2        35.52  \n",
       "3        32.77  \n",
       "4        31.38  "
      ]
     },
     "execution_count": 23,
     "metadata": {},
     "output_type": "execute_result"
    }
   ],
   "source": [
    "df.head()"
   ]
  },
  {
   "cell_type": "code",
   "execution_count": 24,
   "metadata": {},
   "outputs": [
    {
     "name": "stdout",
     "output_type": "stream",
     "text": [
      "<class 'pandas.core.frame.DataFrame'>\n",
      "RangeIndex: 16715 entries, 0 to 16714\n",
      "Data columns (total 12 columns):\n",
      "name               16713 non-null object\n",
      "platform           16715 non-null object\n",
      "year_of_release    16446 non-null float64\n",
      "genre              16713 non-null object\n",
      "na_sales           16715 non-null float64\n",
      "eu_sales           16715 non-null float64\n",
      "jp_sales           16715 non-null float64\n",
      "other_sales        16715 non-null float64\n",
      "critic_score       8137 non-null float64\n",
      "user_score         7590 non-null float64\n",
      "rating             16715 non-null object\n",
      "total_sales        16715 non-null float64\n",
      "dtypes: float64(8), object(4)\n",
      "memory usage: 1.5+ MB\n"
     ]
    }
   ],
   "source": [
    "df.info()"
   ]
  },
  {
   "cell_type": "markdown",
   "metadata": {},
   "source": [
    "### Вывод\n"
   ]
  },
  {
   "cell_type": "markdown",
   "metadata": {},
   "source": [
    " В рейтинге не менял на int, так как есть вероятность получить десятичное число в данных колонках и округление будет не разумно, тем более  вижу более разумным их сделать одним форматом  float64 все. Полагаем наличие пропусков обосновывается не ошибкой, а отсутствием информации и заменять их на средние или т.п. не вижу смысла. Так же делали дополнительный столбец с суммой проданных копий."
   ]
  },
  {
   "cell_type": "markdown",
   "metadata": {},
   "source": [
    "### Шаг 3. Исследовательский анализ данных\n",
    "<a class=\"anchor\" id=\"chapter3\"></a>"
   ]
  },
  {
   "cell_type": "markdown",
   "metadata": {},
   "source": [
    "Шаг 3. Проведите исследовательский анализ данных\n",
    "- Посмотрите, сколько игр выпускалось в разные годы. Важны ли данные за все периоды?\n",
    "- Посмотрите, как менялись продажи по платформам. Выберите платформы с наибольшими суммарными продажами и постройте распределение по годам. За какой характерный срок появляются новые и исчезают старые платформы?\n",
    "- Возьмите данные за соответствующий актуальный период. Актуальный период определите самостоятельно в результате исследования предыдущих вопросов. Основной фактор — эти данные помогут построить прогноз на 2017 год.\n",
    "- Не учитывайте в работе данные за предыдущие годы.\n",
    "- Какие платформы лидируют по продажам, растут или падают? Выберите несколько потенциально прибыльных платформ.\n",
    "- Постройте график «ящик с усами» по глобальным продажам игр в разбивке по платформам. Опишите результат.\n",
    "- Посмотрите, как влияют на продажи внутри одной популярной платформы отзывы пользователей и критиков. - Постройте диаграмму рассеяния и посчитайте корреляцию между отзывами и продажами. Сформулируйте выводы.\n",
    "- Соотнесите выводы с продажами игр на других платформах.\n",
    "- Посмотрите на общее распределение игр по жанрам. Что можно сказать о самых прибыльных жанрах? Выделяются ли жанры с высокими и низкими продажами?"
   ]
  },
  {
   "cell_type": "markdown",
   "metadata": {},
   "source": [
    "Посмотрим, сколько игр выпускалось в разные годы."
   ]
  },
  {
   "cell_type": "code",
   "execution_count": 25,
   "metadata": {},
   "outputs": [
    {
     "data": {
      "text/html": [
       "<div>\n",
       "<style scoped>\n",
       "    .dataframe tbody tr th:only-of-type {\n",
       "        vertical-align: middle;\n",
       "    }\n",
       "\n",
       "    .dataframe tbody tr th {\n",
       "        vertical-align: top;\n",
       "    }\n",
       "\n",
       "    .dataframe thead th {\n",
       "        text-align: right;\n",
       "    }\n",
       "</style>\n",
       "<table border=\"1\" class=\"dataframe\">\n",
       "  <thead>\n",
       "    <tr style=\"text-align: right;\">\n",
       "      <th></th>\n",
       "      <th>name</th>\n",
       "      <th>platform</th>\n",
       "      <th>year_of_release</th>\n",
       "      <th>genre</th>\n",
       "      <th>na_sales</th>\n",
       "      <th>eu_sales</th>\n",
       "      <th>jp_sales</th>\n",
       "      <th>other_sales</th>\n",
       "      <th>critic_score</th>\n",
       "      <th>user_score</th>\n",
       "      <th>rating</th>\n",
       "      <th>total_sales</th>\n",
       "    </tr>\n",
       "  </thead>\n",
       "  <tbody>\n",
       "    <tr>\n",
       "      <td>0</td>\n",
       "      <td>Wii Sports</td>\n",
       "      <td>Wii</td>\n",
       "      <td>2006.0</td>\n",
       "      <td>Sports</td>\n",
       "      <td>41.36</td>\n",
       "      <td>28.96</td>\n",
       "      <td>3.77</td>\n",
       "      <td>8.45</td>\n",
       "      <td>76.0</td>\n",
       "      <td>8.0</td>\n",
       "      <td>6</td>\n",
       "      <td>82.54</td>\n",
       "    </tr>\n",
       "    <tr>\n",
       "      <td>1</td>\n",
       "      <td>Super Mario Bros.</td>\n",
       "      <td>NES</td>\n",
       "      <td>1985.0</td>\n",
       "      <td>Platform</td>\n",
       "      <td>29.08</td>\n",
       "      <td>3.58</td>\n",
       "      <td>6.81</td>\n",
       "      <td>0.77</td>\n",
       "      <td>NaN</td>\n",
       "      <td>NaN</td>\n",
       "      <td>no_data</td>\n",
       "      <td>40.24</td>\n",
       "    </tr>\n",
       "    <tr>\n",
       "      <td>2</td>\n",
       "      <td>Mario Kart Wii</td>\n",
       "      <td>Wii</td>\n",
       "      <td>2008.0</td>\n",
       "      <td>Racing</td>\n",
       "      <td>15.68</td>\n",
       "      <td>12.76</td>\n",
       "      <td>3.79</td>\n",
       "      <td>3.29</td>\n",
       "      <td>82.0</td>\n",
       "      <td>8.3</td>\n",
       "      <td>6</td>\n",
       "      <td>35.52</td>\n",
       "    </tr>\n",
       "    <tr>\n",
       "      <td>3</td>\n",
       "      <td>Wii Sports Resort</td>\n",
       "      <td>Wii</td>\n",
       "      <td>2009.0</td>\n",
       "      <td>Sports</td>\n",
       "      <td>15.61</td>\n",
       "      <td>10.93</td>\n",
       "      <td>3.28</td>\n",
       "      <td>2.95</td>\n",
       "      <td>80.0</td>\n",
       "      <td>8.0</td>\n",
       "      <td>6</td>\n",
       "      <td>32.77</td>\n",
       "    </tr>\n",
       "    <tr>\n",
       "      <td>4</td>\n",
       "      <td>Pokemon Red/Pokemon Blue</td>\n",
       "      <td>GB</td>\n",
       "      <td>1996.0</td>\n",
       "      <td>Role-Playing</td>\n",
       "      <td>11.27</td>\n",
       "      <td>8.89</td>\n",
       "      <td>10.22</td>\n",
       "      <td>1.00</td>\n",
       "      <td>NaN</td>\n",
       "      <td>NaN</td>\n",
       "      <td>no_data</td>\n",
       "      <td>31.38</td>\n",
       "    </tr>\n",
       "  </tbody>\n",
       "</table>\n",
       "</div>"
      ],
      "text/plain": [
       "                       name platform  year_of_release         genre  na_sales  \\\n",
       "0                Wii Sports      Wii           2006.0        Sports     41.36   \n",
       "1         Super Mario Bros.      NES           1985.0      Platform     29.08   \n",
       "2            Mario Kart Wii      Wii           2008.0        Racing     15.68   \n",
       "3         Wii Sports Resort      Wii           2009.0        Sports     15.61   \n",
       "4  Pokemon Red/Pokemon Blue       GB           1996.0  Role-Playing     11.27   \n",
       "\n",
       "   eu_sales  jp_sales  other_sales  critic_score  user_score   rating  \\\n",
       "0     28.96      3.77         8.45          76.0         8.0        6   \n",
       "1      3.58      6.81         0.77           NaN         NaN  no_data   \n",
       "2     12.76      3.79         3.29          82.0         8.3        6   \n",
       "3     10.93      3.28         2.95          80.0         8.0        6   \n",
       "4      8.89     10.22         1.00           NaN         NaN  no_data   \n",
       "\n",
       "   total_sales  \n",
       "0        82.54  \n",
       "1        40.24  \n",
       "2        35.52  \n",
       "3        32.77  \n",
       "4        31.38  "
      ]
     },
     "execution_count": 25,
     "metadata": {},
     "output_type": "execute_result"
    }
   ],
   "source": [
    "df.head()"
   ]
  },
  {
   "cell_type": "code",
   "execution_count": 26,
   "metadata": {},
   "outputs": [
    {
     "data": {
      "text/plain": [
       "<matplotlib.axes._subplots.AxesSubplot at 0x7f28406e5110>"
      ]
     },
     "execution_count": 26,
     "metadata": {},
     "output_type": "execute_result"
    },
    {
     "data": {
      "image/png": "[encoded data removed]",
      "text/plain": [
       "<Figure size 720x720 with 1 Axes>"
      ]
     },
     "metadata": {
      "needs_background": "light"
     },
     "output_type": "display_data"
    }
   ],
   "source": [
    "(df\n",
    "    .groupby('year_of_release')\n",
    "    .agg({'total_sales':['sum']})\n",
    "    .plot(legend=True, style='o-', grid=True, figsize=(10, 10),title='Выпуск игр в год')\n",
    ")"
   ]
  },
  {
   "cell_type": "markdown",
   "metadata": {},
   "source": [
    " Мы видим реский рост продаж на игры с 1996 и спад с 2008 года. Основной период с 2000 по 2015. Большой части игр нету в 2016 году, его можно не трогать. Рассмотрим интервал с 2009 года по 2015, когда у нас наиболее актуальные данные."
   ]
  },
  {
   "cell_type": "markdown",
   "metadata": {},
   "source": [
    "Полагаю причина спада - перестроение и изменение рынка в посткризисное время после 2008."
   ]
  },
  {
   "cell_type": "markdown",
   "metadata": {},
   "source": [
    "Посмотрим, как менялись продажи по платформам. Выберем платформы с наибольшими суммарными продажами и построим распределение по годам. Определим какой характерный срок появляются новые и исчезают старые платформы?"
   ]
  },
  {
   "cell_type": "code",
   "execution_count": 27,
   "metadata": {},
   "outputs": [
    {
     "data": {
      "text/html": [
       "<div>\n",
       "<style scoped>\n",
       "    .dataframe tbody tr th:only-of-type {\n",
       "        vertical-align: middle;\n",
       "    }\n",
       "\n",
       "    .dataframe tbody tr th {\n",
       "        vertical-align: top;\n",
       "    }\n",
       "\n",
       "    .dataframe thead tr th {\n",
       "        text-align: left;\n",
       "    }\n",
       "\n",
       "    .dataframe thead tr:last-of-type th {\n",
       "        text-align: right;\n",
       "    }\n",
       "</style>\n",
       "<table border=\"1\" class=\"dataframe\">\n",
       "  <thead>\n",
       "    <tr>\n",
       "      <th></th>\n",
       "      <th>total_sales</th>\n",
       "    </tr>\n",
       "    <tr>\n",
       "      <th></th>\n",
       "      <th>sum</th>\n",
       "    </tr>\n",
       "    <tr>\n",
       "      <th>platform</th>\n",
       "      <th></th>\n",
       "    </tr>\n",
       "  </thead>\n",
       "  <tbody>\n",
       "    <tr>\n",
       "      <td>PS2</td>\n",
       "      <td>1233.56</td>\n",
       "    </tr>\n",
       "    <tr>\n",
       "      <td>X360</td>\n",
       "      <td>959.72</td>\n",
       "    </tr>\n",
       "    <tr>\n",
       "      <td>PS3</td>\n",
       "      <td>927.74</td>\n",
       "    </tr>\n",
       "    <tr>\n",
       "      <td>Wii</td>\n",
       "      <td>891.00</td>\n",
       "    </tr>\n",
       "    <tr>\n",
       "      <td>DS</td>\n",
       "      <td>802.76</td>\n",
       "    </tr>\n",
       "    <tr>\n",
       "      <td>GBA</td>\n",
       "      <td>312.88</td>\n",
       "    </tr>\n",
       "    <tr>\n",
       "      <td>PSP</td>\n",
       "      <td>289.53</td>\n",
       "    </tr>\n",
       "    <tr>\n",
       "      <td>XB</td>\n",
       "      <td>251.57</td>\n",
       "    </tr>\n",
       "    <tr>\n",
       "      <td>PS4</td>\n",
       "      <td>244.89</td>\n",
       "    </tr>\n",
       "    <tr>\n",
       "      <td>3DS</td>\n",
       "      <td>242.67</td>\n",
       "    </tr>\n",
       "  </tbody>\n",
       "</table>\n",
       "</div>"
      ],
      "text/plain": [
       "         total_sales\n",
       "                 sum\n",
       "platform            \n",
       "PS2          1233.56\n",
       "X360          959.72\n",
       "PS3           927.74\n",
       "Wii           891.00\n",
       "DS            802.76\n",
       "GBA           312.88\n",
       "PSP           289.53\n",
       "XB            251.57\n",
       "PS4           244.89\n",
       "3DS           242.67"
      ]
     },
     "execution_count": 27,
     "metadata": {},
     "output_type": "execute_result"
    }
   ],
   "source": [
    "top_platforms = (df\n",
    "    .query('2000 <= year_of_release <= 2015')\n",
    "    .groupby('platform')\n",
    "    .agg({'total_sales':['sum']})\n",
    "    .sort_values(by=('total_sales', 'sum'), ascending=False)\n",
    "    .head(10)\n",
    ")\n",
    "top_platforms"
   ]
  },
  {
   "cell_type": "code",
   "execution_count": 28,
   "metadata": {},
   "outputs": [
    {
     "data": {
      "text/html": [
       "<div>\n",
       "<style scoped>\n",
       "    .dataframe tbody tr th:only-of-type {\n",
       "        vertical-align: middle;\n",
       "    }\n",
       "\n",
       "    .dataframe tbody tr th {\n",
       "        vertical-align: top;\n",
       "    }\n",
       "\n",
       "    .dataframe thead tr th {\n",
       "        text-align: left;\n",
       "    }\n",
       "\n",
       "    .dataframe thead tr:last-of-type th {\n",
       "        text-align: right;\n",
       "    }\n",
       "</style>\n",
       "<table border=\"1\" class=\"dataframe\">\n",
       "  <thead>\n",
       "    <tr>\n",
       "      <th></th>\n",
       "      <th></th>\n",
       "      <th>total_sales</th>\n",
       "    </tr>\n",
       "    <tr>\n",
       "      <th></th>\n",
       "      <th></th>\n",
       "      <th>sum</th>\n",
       "    </tr>\n",
       "    <tr>\n",
       "      <th>platform</th>\n",
       "      <th>year_of_release</th>\n",
       "      <th></th>\n",
       "    </tr>\n",
       "  </thead>\n",
       "  <tbody>\n",
       "    <tr>\n",
       "      <td rowspan=\"5\" valign=\"top\">3DS</td>\n",
       "      <td>2011.0</td>\n",
       "      <td>63.20</td>\n",
       "    </tr>\n",
       "    <tr>\n",
       "      <td>2012.0</td>\n",
       "      <td>51.36</td>\n",
       "    </tr>\n",
       "    <tr>\n",
       "      <td>2013.0</td>\n",
       "      <td>56.57</td>\n",
       "    </tr>\n",
       "    <tr>\n",
       "      <td>2014.0</td>\n",
       "      <td>43.76</td>\n",
       "    </tr>\n",
       "    <tr>\n",
       "      <td>2015.0</td>\n",
       "      <td>27.78</td>\n",
       "    </tr>\n",
       "    <tr>\n",
       "      <td rowspan=\"10\" valign=\"top\">DS</td>\n",
       "      <td>2004.0</td>\n",
       "      <td>17.27</td>\n",
       "    </tr>\n",
       "    <tr>\n",
       "      <td>2005.0</td>\n",
       "      <td>130.14</td>\n",
       "    </tr>\n",
       "    <tr>\n",
       "      <td>2006.0</td>\n",
       "      <td>119.81</td>\n",
       "    </tr>\n",
       "    <tr>\n",
       "      <td>2007.0</td>\n",
       "      <td>146.94</td>\n",
       "    </tr>\n",
       "    <tr>\n",
       "      <td>2008.0</td>\n",
       "      <td>145.31</td>\n",
       "    </tr>\n",
       "    <tr>\n",
       "      <td>2009.0</td>\n",
       "      <td>119.54</td>\n",
       "    </tr>\n",
       "    <tr>\n",
       "      <td>2010.0</td>\n",
       "      <td>85.02</td>\n",
       "    </tr>\n",
       "    <tr>\n",
       "      <td>2011.0</td>\n",
       "      <td>26.18</td>\n",
       "    </tr>\n",
       "    <tr>\n",
       "      <td>2012.0</td>\n",
       "      <td>11.01</td>\n",
       "    </tr>\n",
       "    <tr>\n",
       "      <td>2013.0</td>\n",
       "      <td>1.54</td>\n",
       "    </tr>\n",
       "    <tr>\n",
       "      <td rowspan=\"8\" valign=\"top\">GBA</td>\n",
       "      <td>2000.0</td>\n",
       "      <td>0.07</td>\n",
       "    </tr>\n",
       "    <tr>\n",
       "      <td>2001.0</td>\n",
       "      <td>61.53</td>\n",
       "    </tr>\n",
       "    <tr>\n",
       "      <td>2002.0</td>\n",
       "      <td>74.16</td>\n",
       "    </tr>\n",
       "    <tr>\n",
       "      <td>2003.0</td>\n",
       "      <td>56.67</td>\n",
       "    </tr>\n",
       "    <tr>\n",
       "      <td>2004.0</td>\n",
       "      <td>77.91</td>\n",
       "    </tr>\n",
       "    <tr>\n",
       "      <td>2005.0</td>\n",
       "      <td>33.86</td>\n",
       "    </tr>\n",
       "    <tr>\n",
       "      <td>2006.0</td>\n",
       "      <td>5.28</td>\n",
       "    </tr>\n",
       "    <tr>\n",
       "      <td>2007.0</td>\n",
       "      <td>3.40</td>\n",
       "    </tr>\n",
       "    <tr>\n",
       "      <td rowspan=\"12\" valign=\"top\">PS2</td>\n",
       "      <td>2000.0</td>\n",
       "      <td>39.17</td>\n",
       "    </tr>\n",
       "    <tr>\n",
       "      <td>2001.0</td>\n",
       "      <td>166.43</td>\n",
       "    </tr>\n",
       "    <tr>\n",
       "      <td>2002.0</td>\n",
       "      <td>205.38</td>\n",
       "    </tr>\n",
       "    <tr>\n",
       "      <td>2003.0</td>\n",
       "      <td>184.31</td>\n",
       "    </tr>\n",
       "    <tr>\n",
       "      <td>2004.0</td>\n",
       "      <td>211.81</td>\n",
       "    </tr>\n",
       "    <tr>\n",
       "      <td>2005.0</td>\n",
       "      <td>160.66</td>\n",
       "    </tr>\n",
       "    <tr>\n",
       "      <td>2006.0</td>\n",
       "      <td>103.42</td>\n",
       "    </tr>\n",
       "    <tr>\n",
       "      <td>2007.0</td>\n",
       "      <td>75.99</td>\n",
       "    </tr>\n",
       "    <tr>\n",
       "      <td>2008.0</td>\n",
       "      <td>53.90</td>\n",
       "    </tr>\n",
       "    <tr>\n",
       "      <td>2009.0</td>\n",
       "      <td>26.40</td>\n",
       "    </tr>\n",
       "    <tr>\n",
       "      <td>2010.0</td>\n",
       "      <td>5.64</td>\n",
       "    </tr>\n",
       "    <tr>\n",
       "      <td>2011.0</td>\n",
       "      <td>0.45</td>\n",
       "    </tr>\n",
       "    <tr>\n",
       "      <td rowspan=\"10\" valign=\"top\">PS3</td>\n",
       "      <td>2006.0</td>\n",
       "      <td>20.96</td>\n",
       "    </tr>\n",
       "    <tr>\n",
       "      <td>2007.0</td>\n",
       "      <td>73.19</td>\n",
       "    </tr>\n",
       "    <tr>\n",
       "      <td>2008.0</td>\n",
       "      <td>118.52</td>\n",
       "    </tr>\n",
       "    <tr>\n",
       "      <td>2009.0</td>\n",
       "      <td>130.93</td>\n",
       "    </tr>\n",
       "    <tr>\n",
       "      <td>2010.0</td>\n",
       "      <td>142.17</td>\n",
       "    </tr>\n",
       "    <tr>\n",
       "      <td>2011.0</td>\n",
       "      <td>156.78</td>\n",
       "    </tr>\n",
       "    <tr>\n",
       "      <td>2012.0</td>\n",
       "      <td>107.36</td>\n",
       "    </tr>\n",
       "    <tr>\n",
       "      <td>2013.0</td>\n",
       "      <td>113.25</td>\n",
       "    </tr>\n",
       "    <tr>\n",
       "      <td>2014.0</td>\n",
       "      <td>47.76</td>\n",
       "    </tr>\n",
       "    <tr>\n",
       "      <td>2015.0</td>\n",
       "      <td>16.82</td>\n",
       "    </tr>\n",
       "    <tr>\n",
       "      <td rowspan=\"3\" valign=\"top\">PS4</td>\n",
       "      <td>2013.0</td>\n",
       "      <td>25.99</td>\n",
       "    </tr>\n",
       "    <tr>\n",
       "      <td>2014.0</td>\n",
       "      <td>100.00</td>\n",
       "    </tr>\n",
       "    <tr>\n",
       "      <td>2015.0</td>\n",
       "      <td>118.90</td>\n",
       "    </tr>\n",
       "    <tr>\n",
       "      <td rowspan=\"12\" valign=\"top\">PSP</td>\n",
       "      <td>2004.0</td>\n",
       "      <td>7.06</td>\n",
       "    </tr>\n",
       "    <tr>\n",
       "      <td>2005.0</td>\n",
       "      <td>43.84</td>\n",
       "    </tr>\n",
       "    <tr>\n",
       "      <td>2006.0</td>\n",
       "      <td>55.32</td>\n",
       "    </tr>\n",
       "    <tr>\n",
       "      <td>2007.0</td>\n",
       "      <td>46.93</td>\n",
       "    </tr>\n",
       "    <tr>\n",
       "      <td>2008.0</td>\n",
       "      <td>34.55</td>\n",
       "    </tr>\n",
       "    <tr>\n",
       "      <td>2009.0</td>\n",
       "      <td>37.78</td>\n",
       "    </tr>\n",
       "    <tr>\n",
       "      <td>2010.0</td>\n",
       "      <td>35.04</td>\n",
       "    </tr>\n",
       "    <tr>\n",
       "      <td>2011.0</td>\n",
       "      <td>17.82</td>\n",
       "    </tr>\n",
       "    <tr>\n",
       "      <td>2012.0</td>\n",
       "      <td>7.69</td>\n",
       "    </tr>\n",
       "    <tr>\n",
       "      <td>2013.0</td>\n",
       "      <td>3.14</td>\n",
       "    </tr>\n",
       "    <tr>\n",
       "      <td>2014.0</td>\n",
       "      <td>0.24</td>\n",
       "    </tr>\n",
       "    <tr>\n",
       "      <td>2015.0</td>\n",
       "      <td>0.12</td>\n",
       "    </tr>\n",
       "    <tr>\n",
       "      <td rowspan=\"10\" valign=\"top\">Wii</td>\n",
       "      <td>2006.0</td>\n",
       "      <td>137.15</td>\n",
       "    </tr>\n",
       "    <tr>\n",
       "      <td>2007.0</td>\n",
       "      <td>152.77</td>\n",
       "    </tr>\n",
       "    <tr>\n",
       "      <td>2008.0</td>\n",
       "      <td>171.32</td>\n",
       "    </tr>\n",
       "    <tr>\n",
       "      <td>2009.0</td>\n",
       "      <td>206.97</td>\n",
       "    </tr>\n",
       "    <tr>\n",
       "      <td>2010.0</td>\n",
       "      <td>127.95</td>\n",
       "    </tr>\n",
       "    <tr>\n",
       "      <td>2011.0</td>\n",
       "      <td>59.65</td>\n",
       "    </tr>\n",
       "    <tr>\n",
       "      <td>2012.0</td>\n",
       "      <td>21.71</td>\n",
       "    </tr>\n",
       "    <tr>\n",
       "      <td>2013.0</td>\n",
       "      <td>8.59</td>\n",
       "    </tr>\n",
       "    <tr>\n",
       "      <td>2014.0</td>\n",
       "      <td>3.75</td>\n",
       "    </tr>\n",
       "    <tr>\n",
       "      <td>2015.0</td>\n",
       "      <td>1.14</td>\n",
       "    </tr>\n",
       "    <tr>\n",
       "      <td rowspan=\"11\" valign=\"top\">X360</td>\n",
       "      <td>2005.0</td>\n",
       "      <td>8.25</td>\n",
       "    </tr>\n",
       "    <tr>\n",
       "      <td>2006.0</td>\n",
       "      <td>51.62</td>\n",
       "    </tr>\n",
       "    <tr>\n",
       "      <td>2007.0</td>\n",
       "      <td>95.41</td>\n",
       "    </tr>\n",
       "    <tr>\n",
       "      <td>2008.0</td>\n",
       "      <td>135.26</td>\n",
       "    </tr>\n",
       "    <tr>\n",
       "      <td>2009.0</td>\n",
       "      <td>120.29</td>\n",
       "    </tr>\n",
       "    <tr>\n",
       "      <td>2010.0</td>\n",
       "      <td>170.03</td>\n",
       "    </tr>\n",
       "    <tr>\n",
       "      <td>2011.0</td>\n",
       "      <td>143.84</td>\n",
       "    </tr>\n",
       "    <tr>\n",
       "      <td>2012.0</td>\n",
       "      <td>99.74</td>\n",
       "    </tr>\n",
       "    <tr>\n",
       "      <td>2013.0</td>\n",
       "      <td>88.58</td>\n",
       "    </tr>\n",
       "    <tr>\n",
       "      <td>2014.0</td>\n",
       "      <td>34.74</td>\n",
       "    </tr>\n",
       "    <tr>\n",
       "      <td>2015.0</td>\n",
       "      <td>11.96</td>\n",
       "    </tr>\n",
       "    <tr>\n",
       "      <td rowspan=\"9\" valign=\"top\">XB</td>\n",
       "      <td>2000.0</td>\n",
       "      <td>0.99</td>\n",
       "    </tr>\n",
       "    <tr>\n",
       "      <td>2001.0</td>\n",
       "      <td>22.26</td>\n",
       "    </tr>\n",
       "    <tr>\n",
       "      <td>2002.0</td>\n",
       "      <td>48.01</td>\n",
       "    </tr>\n",
       "    <tr>\n",
       "      <td>2003.0</td>\n",
       "      <td>55.04</td>\n",
       "    </tr>\n",
       "    <tr>\n",
       "      <td>2004.0</td>\n",
       "      <td>65.42</td>\n",
       "    </tr>\n",
       "    <tr>\n",
       "      <td>2005.0</td>\n",
       "      <td>49.08</td>\n",
       "    </tr>\n",
       "    <tr>\n",
       "      <td>2006.0</td>\n",
       "      <td>10.04</td>\n",
       "    </tr>\n",
       "    <tr>\n",
       "      <td>2007.0</td>\n",
       "      <td>0.55</td>\n",
       "    </tr>\n",
       "    <tr>\n",
       "      <td>2008.0</td>\n",
       "      <td>0.18</td>\n",
       "    </tr>\n",
       "  </tbody>\n",
       "</table>\n",
       "</div>"
      ],
      "text/plain": [
       "                         total_sales\n",
       "                                 sum\n",
       "platform year_of_release            \n",
       "3DS      2011.0                63.20\n",
       "         2012.0                51.36\n",
       "         2013.0                56.57\n",
       "         2014.0                43.76\n",
       "         2015.0                27.78\n",
       "DS       2004.0                17.27\n",
       "         2005.0               130.14\n",
       "         2006.0               119.81\n",
       "         2007.0               146.94\n",
       "         2008.0               145.31\n",
       "         2009.0               119.54\n",
       "         2010.0                85.02\n",
       "         2011.0                26.18\n",
       "         2012.0                11.01\n",
       "         2013.0                 1.54\n",
       "GBA      2000.0                 0.07\n",
       "         2001.0                61.53\n",
       "         2002.0                74.16\n",
       "         2003.0                56.67\n",
       "         2004.0                77.91\n",
       "         2005.0                33.86\n",
       "         2006.0                 5.28\n",
       "         2007.0                 3.40\n",
       "PS2      2000.0                39.17\n",
       "         2001.0               166.43\n",
       "         2002.0               205.38\n",
       "         2003.0               184.31\n",
       "         2004.0               211.81\n",
       "         2005.0               160.66\n",
       "         2006.0               103.42\n",
       "         2007.0                75.99\n",
       "         2008.0                53.90\n",
       "         2009.0                26.40\n",
       "         2010.0                 5.64\n",
       "         2011.0                 0.45\n",
       "PS3      2006.0                20.96\n",
       "         2007.0                73.19\n",
       "         2008.0               118.52\n",
       "         2009.0               130.93\n",
       "         2010.0               142.17\n",
       "         2011.0               156.78\n",
       "         2012.0               107.36\n",
       "         2013.0               113.25\n",
       "         2014.0                47.76\n",
       "         2015.0                16.82\n",
       "PS4      2013.0                25.99\n",
       "         2014.0               100.00\n",
       "         2015.0               118.90\n",
       "PSP      2004.0                 7.06\n",
       "         2005.0                43.84\n",
       "         2006.0                55.32\n",
       "         2007.0                46.93\n",
       "         2008.0                34.55\n",
       "         2009.0                37.78\n",
       "         2010.0                35.04\n",
       "         2011.0                17.82\n",
       "         2012.0                 7.69\n",
       "         2013.0                 3.14\n",
       "         2014.0                 0.24\n",
       "         2015.0                 0.12\n",
       "Wii      2006.0               137.15\n",
       "         2007.0               152.77\n",
       "         2008.0               171.32\n",
       "         2009.0               206.97\n",
       "         2010.0               127.95\n",
       "         2011.0                59.65\n",
       "         2012.0                21.71\n",
       "         2013.0                 8.59\n",
       "         2014.0                 3.75\n",
       "         2015.0                 1.14\n",
       "X360     2005.0                 8.25\n",
       "         2006.0                51.62\n",
       "         2007.0                95.41\n",
       "         2008.0               135.26\n",
       "         2009.0               120.29\n",
       "         2010.0               170.03\n",
       "         2011.0               143.84\n",
       "         2012.0                99.74\n",
       "         2013.0                88.58\n",
       "         2014.0                34.74\n",
       "         2015.0                11.96\n",
       "XB       2000.0                 0.99\n",
       "         2001.0                22.26\n",
       "         2002.0                48.01\n",
       "         2003.0                55.04\n",
       "         2004.0                65.42\n",
       "         2005.0                49.08\n",
       "         2006.0                10.04\n",
       "         2007.0                 0.55\n",
       "         2008.0                 0.18"
      ]
     },
     "execution_count": 28,
     "metadata": {},
     "output_type": "execute_result"
    }
   ],
   "source": [
    "platf = (df\n",
    "    .query('platform in @top_platforms.index and 2000 <= year_of_release <= 2015')\n",
    "    .groupby(['platform','year_of_release'])\n",
    "    .agg({'total_sales':['sum']})\n",
    ") \n",
    "platf"
   ]
  },
  {
   "cell_type": "markdown",
   "metadata": {},
   "source": [
    "Дропнем мультииндекс с годами и посчитаем количество лет жизни платформы за последние 15 лет без выбросов"
   ]
  },
  {
   "cell_type": "code",
   "execution_count": 29,
   "metadata": {},
   "outputs": [
    {
     "data": {
      "text/plain": [
       "PS2     12\n",
       "PSP     12\n",
       "X360    11\n",
       "PS3     10\n",
       "Wii     10\n",
       "DS      10\n",
       "XB       9\n",
       "GBA      8\n",
       "3DS      5\n",
       "PS4      3\n",
       "Name: platform, dtype: int64"
      ]
     },
     "execution_count": 29,
     "metadata": {},
     "output_type": "execute_result"
    }
   ],
   "source": [
    "platf.droplevel(level=1).index.value_counts()"
   ]
  },
  {
   "cell_type": "code",
   "execution_count": 30,
   "metadata": {},
   "outputs": [
    {
     "data": {
      "text/plain": [
       "9.0"
      ]
     },
     "execution_count": 30,
     "metadata": {},
     "output_type": "execute_result"
    }
   ],
   "source": [
    "platf.droplevel(level=1).index.value_counts().mean()"
   ]
  },
  {
   "cell_type": "markdown",
   "metadata": {},
   "source": [
    "Мы видим что средний срок жизни платформы 9 лет по данным с 2000 по 2015 год. Но самые актуальные для нас данные в посткризисное время после 2008."
   ]
  },
  {
   "cell_type": "markdown",
   "metadata": {},
   "source": [
    "Теперь посмотрим данные по топовым платформам именно за интервал с 2009 - 2015"
   ]
  },
  {
   "cell_type": "code",
   "execution_count": 31,
   "metadata": {},
   "outputs": [
    {
     "data": {
      "text/html": [
       "<div>\n",
       "<style scoped>\n",
       "    .dataframe tbody tr th:only-of-type {\n",
       "        vertical-align: middle;\n",
       "    }\n",
       "\n",
       "    .dataframe tbody tr th {\n",
       "        vertical-align: top;\n",
       "    }\n",
       "\n",
       "    .dataframe thead tr th {\n",
       "        text-align: left;\n",
       "    }\n",
       "\n",
       "    .dataframe thead tr:last-of-type th {\n",
       "        text-align: right;\n",
       "    }\n",
       "</style>\n",
       "<table border=\"1\" class=\"dataframe\">\n",
       "  <thead>\n",
       "    <tr>\n",
       "      <th></th>\n",
       "      <th>total_sales</th>\n",
       "    </tr>\n",
       "    <tr>\n",
       "      <th></th>\n",
       "      <th>sum</th>\n",
       "    </tr>\n",
       "    <tr>\n",
       "      <th>platform</th>\n",
       "      <th></th>\n",
       "    </tr>\n",
       "  </thead>\n",
       "  <tbody>\n",
       "    <tr>\n",
       "      <td>PS3</td>\n",
       "      <td>715.07</td>\n",
       "    </tr>\n",
       "    <tr>\n",
       "      <td>X360</td>\n",
       "      <td>669.18</td>\n",
       "    </tr>\n",
       "    <tr>\n",
       "      <td>Wii</td>\n",
       "      <td>429.76</td>\n",
       "    </tr>\n",
       "    <tr>\n",
       "      <td>PS4</td>\n",
       "      <td>244.89</td>\n",
       "    </tr>\n",
       "    <tr>\n",
       "      <td>DS</td>\n",
       "      <td>243.29</td>\n",
       "    </tr>\n",
       "    <tr>\n",
       "      <td>3DS</td>\n",
       "      <td>242.67</td>\n",
       "    </tr>\n",
       "    <tr>\n",
       "      <td>PC</td>\n",
       "      <td>133.62</td>\n",
       "    </tr>\n",
       "    <tr>\n",
       "      <td>XOne</td>\n",
       "      <td>133.17</td>\n",
       "    </tr>\n",
       "    <tr>\n",
       "      <td>PSP</td>\n",
       "      <td>101.83</td>\n",
       "    </tr>\n",
       "    <tr>\n",
       "      <td>WiiU</td>\n",
       "      <td>77.59</td>\n",
       "    </tr>\n",
       "  </tbody>\n",
       "</table>\n",
       "</div>"
      ],
      "text/plain": [
       "         total_sales\n",
       "                 sum\n",
       "platform            \n",
       "PS3           715.07\n",
       "X360          669.18\n",
       "Wii           429.76\n",
       "PS4           244.89\n",
       "DS            243.29\n",
       "3DS           242.67\n",
       "PC            133.62\n",
       "XOne          133.17\n",
       "PSP           101.83\n",
       "WiiU           77.59"
      ]
     },
     "execution_count": 31,
     "metadata": {},
     "output_type": "execute_result"
    }
   ],
   "source": [
    "top10_platforms = (df\n",
    "    .query('2009 <= year_of_release <= 2015')\n",
    "    .groupby('platform')\n",
    "    .agg({'total_sales':['sum']})\n",
    "    .sort_values(by=('total_sales', 'sum'), ascending=False)\n",
    "    .head(10)\n",
    ")\n",
    "top10_platforms"
   ]
  },
  {
   "cell_type": "code",
   "execution_count": 32,
   "metadata": {},
   "outputs": [
    {
     "data": {
      "text/html": [
       "<div>\n",
       "<style scoped>\n",
       "    .dataframe tbody tr th:only-of-type {\n",
       "        vertical-align: middle;\n",
       "    }\n",
       "\n",
       "    .dataframe tbody tr th {\n",
       "        vertical-align: top;\n",
       "    }\n",
       "\n",
       "    .dataframe thead th {\n",
       "        text-align: right;\n",
       "    }\n",
       "</style>\n",
       "<table border=\"1\" class=\"dataframe\">\n",
       "  <thead>\n",
       "    <tr style=\"text-align: right;\">\n",
       "      <th>year_of_release</th>\n",
       "      <th>2009.0</th>\n",
       "      <th>2010.0</th>\n",
       "      <th>2011.0</th>\n",
       "      <th>2012.0</th>\n",
       "      <th>2013.0</th>\n",
       "      <th>2014.0</th>\n",
       "      <th>2015.0</th>\n",
       "    </tr>\n",
       "    <tr>\n",
       "      <th>platform</th>\n",
       "      <th></th>\n",
       "      <th></th>\n",
       "      <th></th>\n",
       "      <th></th>\n",
       "      <th></th>\n",
       "      <th></th>\n",
       "      <th></th>\n",
       "    </tr>\n",
       "  </thead>\n",
       "  <tbody>\n",
       "    <tr>\n",
       "      <td>3DS</td>\n",
       "      <td>NaN</td>\n",
       "      <td>NaN</td>\n",
       "      <td>63.20</td>\n",
       "      <td>51.36</td>\n",
       "      <td>56.57</td>\n",
       "      <td>43.76</td>\n",
       "      <td>27.78</td>\n",
       "    </tr>\n",
       "    <tr>\n",
       "      <td>DS</td>\n",
       "      <td>119.54</td>\n",
       "      <td>85.02</td>\n",
       "      <td>26.18</td>\n",
       "      <td>11.01</td>\n",
       "      <td>1.54</td>\n",
       "      <td>NaN</td>\n",
       "      <td>NaN</td>\n",
       "    </tr>\n",
       "    <tr>\n",
       "      <td>PC</td>\n",
       "      <td>16.91</td>\n",
       "      <td>24.28</td>\n",
       "      <td>35.03</td>\n",
       "      <td>23.22</td>\n",
       "      <td>12.38</td>\n",
       "      <td>13.28</td>\n",
       "      <td>8.52</td>\n",
       "    </tr>\n",
       "    <tr>\n",
       "      <td>PS3</td>\n",
       "      <td>130.93</td>\n",
       "      <td>142.17</td>\n",
       "      <td>156.78</td>\n",
       "      <td>107.36</td>\n",
       "      <td>113.25</td>\n",
       "      <td>47.76</td>\n",
       "      <td>16.82</td>\n",
       "    </tr>\n",
       "    <tr>\n",
       "      <td>PS4</td>\n",
       "      <td>NaN</td>\n",
       "      <td>NaN</td>\n",
       "      <td>NaN</td>\n",
       "      <td>NaN</td>\n",
       "      <td>25.99</td>\n",
       "      <td>100.00</td>\n",
       "      <td>118.90</td>\n",
       "    </tr>\n",
       "    <tr>\n",
       "      <td>PSP</td>\n",
       "      <td>37.78</td>\n",
       "      <td>35.04</td>\n",
       "      <td>17.82</td>\n",
       "      <td>7.69</td>\n",
       "      <td>3.14</td>\n",
       "      <td>0.24</td>\n",
       "      <td>0.12</td>\n",
       "    </tr>\n",
       "    <tr>\n",
       "      <td>Wii</td>\n",
       "      <td>206.97</td>\n",
       "      <td>127.95</td>\n",
       "      <td>59.65</td>\n",
       "      <td>21.71</td>\n",
       "      <td>8.59</td>\n",
       "      <td>3.75</td>\n",
       "      <td>1.14</td>\n",
       "    </tr>\n",
       "    <tr>\n",
       "      <td>WiiU</td>\n",
       "      <td>NaN</td>\n",
       "      <td>NaN</td>\n",
       "      <td>NaN</td>\n",
       "      <td>17.56</td>\n",
       "      <td>21.65</td>\n",
       "      <td>22.03</td>\n",
       "      <td>16.35</td>\n",
       "    </tr>\n",
       "    <tr>\n",
       "      <td>X360</td>\n",
       "      <td>120.29</td>\n",
       "      <td>170.03</td>\n",
       "      <td>143.84</td>\n",
       "      <td>99.74</td>\n",
       "      <td>88.58</td>\n",
       "      <td>34.74</td>\n",
       "      <td>11.96</td>\n",
       "    </tr>\n",
       "    <tr>\n",
       "      <td>XOne</td>\n",
       "      <td>NaN</td>\n",
       "      <td>NaN</td>\n",
       "      <td>NaN</td>\n",
       "      <td>NaN</td>\n",
       "      <td>18.96</td>\n",
       "      <td>54.07</td>\n",
       "      <td>60.14</td>\n",
       "    </tr>\n",
       "  </tbody>\n",
       "</table>\n",
       "</div>"
      ],
      "text/plain": [
       "year_of_release  2009.0  2010.0  2011.0  2012.0  2013.0  2014.0  2015.0\n",
       "platform                                                               \n",
       "3DS                 NaN     NaN   63.20   51.36   56.57   43.76   27.78\n",
       "DS               119.54   85.02   26.18   11.01    1.54     NaN     NaN\n",
       "PC                16.91   24.28   35.03   23.22   12.38   13.28    8.52\n",
       "PS3              130.93  142.17  156.78  107.36  113.25   47.76   16.82\n",
       "PS4                 NaN     NaN     NaN     NaN   25.99  100.00  118.90\n",
       "PSP               37.78   35.04   17.82    7.69    3.14    0.24    0.12\n",
       "Wii              206.97  127.95   59.65   21.71    8.59    3.75    1.14\n",
       "WiiU                NaN     NaN     NaN   17.56   21.65   22.03   16.35\n",
       "X360             120.29  170.03  143.84   99.74   88.58   34.74   11.96\n",
       "XOne                NaN     NaN     NaN     NaN   18.96   54.07   60.14"
      ]
     },
     "execution_count": 32,
     "metadata": {},
     "output_type": "execute_result"
    }
   ],
   "source": [
    "(df\n",
    "    .query('2009 <= year_of_release <= 2015 and platform in @top10_platforms.index')\n",
    "    .pivot_table(index='platform', columns='year_of_release', values='total_sales',aggfunc='sum')\n",
    ")"
   ]
  },
  {
   "cell_type": "markdown",
   "metadata": {},
   "source": [
    "Сохраним отдельный df с нашей выборкой по годам и платформ с топ 10 по оборотам"
   ]
  },
  {
   "cell_type": "code",
   "execution_count": 33,
   "metadata": {},
   "outputs": [],
   "source": [
    "df_top10_2009 = (df\n",
    "    .query('2009 <= year_of_release <= 2015 and platform in @top10_platforms.index')\n",
    "    .copy()\n",
    ")         "
   ]
  },
  {
   "cell_type": "markdown",
   "metadata": {},
   "source": [
    "Мы видим 2 наиболее популярных и актуальных платформы по продажам - PS4, XOne, 3DS, WiiU. У остальных платформ продажи либо совсем в нуле либо на минимумах."
   ]
  },
  {
   "cell_type": "markdown",
   "metadata": {},
   "source": [
    "Построим боксплот и опишем данные продаж по всем топовым платформам и потом по 2-м топовым и сравним их."
   ]
  },
  {
   "cell_type": "code",
   "execution_count": 34,
   "metadata": {},
   "outputs": [
    {
     "data": {
      "text/plain": [
       "<matplotlib.axes._subplots.AxesSubplot at 0x7f283deaa5d0>"
      ]
     },
     "execution_count": 34,
     "metadata": {},
     "output_type": "execute_result"
    },
    {
     "data": {
      "image/png": "[encoded data removed]",
      "text/plain": [
       "<Figure size 432x288 with 1 Axes>"
      ]
     },
     "metadata": {
      "needs_background": "light"
     },
     "output_type": "display_data"
    }
   ],
   "source": [
    "(df_top10_2009\n",
    "    .boxplot(column=['total_sales'])\n",
    ")"
   ]
  },
  {
   "cell_type": "code",
   "execution_count": 35,
   "metadata": {},
   "outputs": [
    {
     "data": {
      "text/plain": [
       "count    5716.000000\n",
       "mean        0.523280\n",
       "std         1.396393\n",
       "min         0.010000\n",
       "25%         0.050000\n",
       "50%         0.150000\n",
       "75%         0.440000\n",
       "max        32.770000\n",
       "Name: total_sales, dtype: float64"
      ]
     },
     "execution_count": 35,
     "metadata": {},
     "output_type": "execute_result"
    }
   ],
   "source": [
    "(df_top10_2009\n",
    "   ['total_sales'].describe()\n",
    ")"
   ]
  },
  {
   "cell_type": "code",
   "execution_count": 36,
   "metadata": {},
   "outputs": [
    {
     "data": {
      "text/plain": [
       "<matplotlib.axes._subplots.AxesSubplot at 0x7f283de299d0>"
      ]
     },
     "execution_count": 36,
     "metadata": {},
     "output_type": "execute_result"
    },
    {
     "data": {
      "image/png": "[encoded data removed]",
      "text/plain": [
       "<Figure size 432x288 with 1 Axes>"
      ]
     },
     "metadata": {
      "needs_background": "light"
     },
     "output_type": "display_data"
    }
   ],
   "source": [
    "(df_top10_2009\n",
    "    .query('platform ==\"PS4\"')\n",
    "    .boxplot(column=['total_sales'])\n",
    ")"
   ]
  },
  {
   "cell_type": "code",
   "execution_count": 37,
   "metadata": {},
   "outputs": [
    {
     "data": {
      "text/plain": [
       "count    228.000000\n",
       "mean       1.074079\n",
       "std        1.899788\n",
       "min        0.010000\n",
       "25%        0.097500\n",
       "50%        0.310000\n",
       "75%        1.105000\n",
       "max       14.630000\n",
       "Name: total_sales, dtype: float64"
      ]
     },
     "execution_count": 37,
     "metadata": {},
     "output_type": "execute_result"
    }
   ],
   "source": [
    "(df_top10_2009\n",
    "    .query('platform ==\"PS4\"')\n",
    "    ['total_sales'].describe()\n",
    ")"
   ]
  },
  {
   "cell_type": "code",
   "execution_count": 38,
   "metadata": {},
   "outputs": [
    {
     "data": {
      "text/plain": [
       "<matplotlib.axes._subplots.AxesSubplot at 0x7f283de03b50>"
      ]
     },
     "execution_count": 38,
     "metadata": {},
     "output_type": "execute_result"
    },
    {
     "data": {
      "image/png": "[encoded data removed]",
      "text/plain": [
       "<Figure size 432x288 with 1 Axes>"
      ]
     },
     "metadata": {
      "needs_background": "light"
     },
     "output_type": "display_data"
    }
   ],
   "source": [
    "(df_top10_2009\n",
    "    .query('platform ==\"3DS\"')\n",
    "    .boxplot(column=['total_sales'])\n",
    ")"
   ]
  },
  {
   "cell_type": "code",
   "execution_count": 39,
   "metadata": {},
   "outputs": [
    {
     "data": {
      "text/plain": [
       "count    466.000000\n",
       "mean       0.520751\n",
       "std        1.473436\n",
       "min        0.010000\n",
       "25%        0.060000\n",
       "50%        0.130000\n",
       "75%        0.377500\n",
       "max       14.600000\n",
       "Name: total_sales, dtype: float64"
      ]
     },
     "execution_count": 39,
     "metadata": {},
     "output_type": "execute_result"
    }
   ],
   "source": [
    "(df_top10_2009\n",
    "    .query('platform ==\"3DS\"')\n",
    "   ['total_sales'].describe()\n",
    ")"
   ]
  },
  {
   "cell_type": "code",
   "execution_count": 40,
   "metadata": {
    "scrolled": true
   },
   "outputs": [
    {
     "data": {
      "text/plain": [
       "<matplotlib.axes._subplots.AxesSubplot at 0x7f283dd89890>"
      ]
     },
     "execution_count": 40,
     "metadata": {},
     "output_type": "execute_result"
    },
    {
     "data": {
      "image/png": "[encoded data removed]",
      "text/plain": [
       "<Figure size 432x288 with 1 Axes>"
      ]
     },
     "metadata": {
      "needs_background": "light"
     },
     "output_type": "display_data"
    }
   ],
   "source": [
    "(df_top10_2009\n",
    "    .query('platform ==\"XOne\"')\n",
    "    .boxplot(column=['total_sales'])\n",
    ")"
   ]
  },
  {
   "cell_type": "code",
   "execution_count": 41,
   "metadata": {},
   "outputs": [
    {
     "data": {
      "text/plain": [
       "count    160.000000\n",
       "mean       0.832313\n",
       "std        1.182243\n",
       "min        0.010000\n",
       "25%        0.130000\n",
       "50%        0.350000\n",
       "75%        1.137500\n",
       "max        7.390000\n",
       "Name: total_sales, dtype: float64"
      ]
     },
     "execution_count": 41,
     "metadata": {},
     "output_type": "execute_result"
    }
   ],
   "source": [
    "(df_top10_2009\n",
    "    .query('platform ==\"XOne\"')\n",
    "    ['total_sales'].describe()\n",
    ")"
   ]
  },
  {
   "cell_type": "code",
   "execution_count": 42,
   "metadata": {},
   "outputs": [
    {
     "data": {
      "text/plain": [
       "<matplotlib.axes._subplots.AxesSubplot at 0x7f283dc5e990>"
      ]
     },
     "execution_count": 42,
     "metadata": {},
     "output_type": "execute_result"
    },
    {
     "data": {
      "image/png": "[encoded data removed]",
      "text/plain": [
       "<Figure size 432x288 with 1 Axes>"
      ]
     },
     "metadata": {
      "needs_background": "light"
     },
     "output_type": "display_data"
    }
   ],
   "source": [
    "(df_top10_2009\n",
    "    .query('platform ==\"WiiU\"')\n",
    "    .boxplot(column=['total_sales'])\n",
    ")"
   ]
  },
  {
   "cell_type": "code",
   "execution_count": 43,
   "metadata": {},
   "outputs": [
    {
     "data": {
      "text/plain": [
       "count    133.000000\n",
       "mean       0.583383\n",
       "std        1.105384\n",
       "min        0.010000\n",
       "25%        0.080000\n",
       "50%        0.220000\n",
       "75%        0.530000\n",
       "max        7.090000\n",
       "Name: total_sales, dtype: float64"
      ]
     },
     "execution_count": 43,
     "metadata": {},
     "output_type": "execute_result"
    }
   ],
   "source": [
    "(df_top10_2009\n",
    "    .query('platform ==\"WiiU\"')\n",
    "    ['total_sales'].describe()\n",
    ")"
   ]
  },
  {
   "cell_type": "markdown",
   "metadata": {},
   "source": [
    "Исходя из данных мы видим:\n",
    "- средние показатели продаж по платформам mean = 0,5, median = 0,15, std = 1,4\n",
    "- платформа PS4 mean = 1,1 , median = 0,3 , std = 1,9\n",
    "- платформа 3DS mean = 0,5 , median = 0,13 , std = 1,5\n",
    "- платформа XOne mean = 0,8 , median = 0,35 , std = 1,2\n",
    "- платформа WiiU mean = 0,6 , median = 0,22 , std = 1,1\n",
    "\n",
    "Наиболее популярная платформа PS4, она имеет самые высокие показатели продаж, так же это можно обосновать активным продвижением бренда PS4 во всем мире, особенно после 2009."
   ]
  },
  {
   "cell_type": "markdown",
   "metadata": {},
   "source": [
    "Посмотрим как влияют на продажи внутри одной популярной платформы, в нашем случае PS4, отзывы покупателей и критиков. Построим диаграмму рассеяния и посчитаем корреляцию между отзывами и продажами."
   ]
  },
  {
   "cell_type": "code",
   "execution_count": 44,
   "metadata": {},
   "outputs": [
    {
     "data": {
      "text/plain": [
       "<matplotlib.axes._subplots.AxesSubplot at 0x7f283dbe3390>"
      ]
     },
     "execution_count": 44,
     "metadata": {},
     "output_type": "execute_result"
    },
    {
     "data": {
      "image/png": "[encoded data removed]",
      "text/plain": [
       "<Figure size 720x720 with 1 Axes>"
      ]
     },
     "metadata": {
      "needs_background": "light"
     },
     "output_type": "display_data"
    }
   ],
   "source": [
    "(df_top10_2009\n",
    "    .query('platform == \"PS4\"')\n",
    "    .plot(y='total_sales', x='critic_score', kind = 'scatter',legend=True, grid=True, figsize=(10, 10),title='Диаграмма рассеяния, продажи и отзывы  критиков')\n",
    ")"
   ]
  },
  {
   "cell_type": "code",
   "execution_count": 45,
   "metadata": {},
   "outputs": [
    {
     "data": {
      "text/plain": [
       "<matplotlib.axes._subplots.AxesSubplot at 0x7f283db736d0>"
      ]
     },
     "execution_count": 45,
     "metadata": {},
     "output_type": "execute_result"
    },
    {
     "data": {
      "image/png": "[encoded data removed]",
      "text/plain": [
       "<Figure size 720x720 with 1 Axes>"
      ]
     },
     "metadata": {
      "needs_background": "light"
     },
     "output_type": "display_data"
    }
   ],
   "source": [
    "(df_top10_2009\n",
    "    .query('platform == \"PS4\"')\n",
    "    .plot(y='total_sales', x='user_score', kind = 'scatter',legend=True, grid=True, figsize=(10, 10),title='Диаграмма рассеяния, продажи и отзывы пользователей')\n",
    ")"
   ]
  },
  {
   "cell_type": "markdown",
   "metadata": {},
   "source": [
    "Пропишем функцию для нахождения корреляции по платформе"
   ]
  },
  {
   "cell_type": "code",
   "execution_count": 46,
   "metadata": {},
   "outputs": [],
   "source": [
    "def corr(df,platform):\n",
    "    print('Корреляция между продажами и оценкой критиков',str(platform),':',df.query('platform == @platform')['total_sales']\n",
    "      .corr(df.query('platform == @platform')['critic_score']))\n",
    "    print('Корреляция между продажами и оценкой пользователей',str(platform),':', df.query('platform == @platform')['total_sales']\n",
    "      .corr(df.query('platform == @platform')['user_score']))"
   ]
  },
  {
   "cell_type": "code",
   "execution_count": 47,
   "metadata": {},
   "outputs": [
    {
     "name": "stdout",
     "output_type": "stream",
     "text": [
      "Корреляция между продажами и оценкой критиков PS4 : 0.4318482049982005\n",
      "Корреляция между продажами и оценкой пользователей PS4 : 0.024230832360622553\n"
     ]
    }
   ],
   "source": [
    "corr(df_top10_2009,'PS4')"
   ]
  },
  {
   "cell_type": "code",
   "execution_count": 48,
   "metadata": {},
   "outputs": [
    {
     "name": "stdout",
     "output_type": "stream",
     "text": [
      "Корреляция между продажами и оценкой критиков XOne : 0.4593845680707106\n",
      "Корреляция между продажами и оценкой пользователей XOne : -0.03926828544552199\n"
     ]
    }
   ],
   "source": [
    "corr(df_top10_2009,'XOne')"
   ]
  },
  {
   "cell_type": "code",
   "execution_count": 49,
   "metadata": {},
   "outputs": [
    {
     "name": "stdout",
     "output_type": "stream",
     "text": [
      "Корреляция между продажами и оценкой критиков 3DS : 0.3610269340210956\n",
      "Корреляция между продажами и оценкой пользователей 3DS : 0.23441244400535474\n"
     ]
    }
   ],
   "source": [
    "corr(df_top10_2009,'3DS')"
   ]
  },
  {
   "cell_type": "code",
   "execution_count": 50,
   "metadata": {},
   "outputs": [
    {
     "name": "stdout",
     "output_type": "stream",
     "text": [
      "Корреляция между продажами и оценкой критиков WiiU : 0.3546914930621983\n",
      "Корреляция между продажами и оценкой пользователей WiiU : 0.41326541780286724\n"
     ]
    }
   ],
   "source": [
    "corr(df_top10_2009,'WiiU')"
   ]
  },
  {
   "cell_type": "markdown",
   "metadata": {},
   "source": [
    "Для PS4, XOne есть прямая корреляция с отзывами критиков и отсутствие корреляции для отзывов покупателей.<br>\n",
    "Для 3DS, WiiU есть прямая корреляция с отзывами критиков и отзывами покупателей."
   ]
  },
  {
   "cell_type": "markdown",
   "metadata": {},
   "source": [
    "Возможно такая ситуация связана с распространением платформ в разных регионах. Так же пользователю сложно дать корректную оценку в отличии от критика у которого есть компетенция."
   ]
  },
  {
   "cell_type": "markdown",
   "metadata": {},
   "source": [
    "Посмотрим на общее распределение игр по жанрам."
   ]
  },
  {
   "cell_type": "code",
   "execution_count": 51,
   "metadata": {},
   "outputs": [
    {
     "data": {
      "text/html": [
       "<div>\n",
       "<style scoped>\n",
       "    .dataframe tbody tr th:only-of-type {\n",
       "        vertical-align: middle;\n",
       "    }\n",
       "\n",
       "    .dataframe tbody tr th {\n",
       "        vertical-align: top;\n",
       "    }\n",
       "\n",
       "    .dataframe thead th {\n",
       "        text-align: right;\n",
       "    }\n",
       "</style>\n",
       "<table border=\"1\" class=\"dataframe\">\n",
       "  <thead>\n",
       "    <tr style=\"text-align: right;\">\n",
       "      <th></th>\n",
       "      <th>name</th>\n",
       "      <th>platform</th>\n",
       "      <th>year_of_release</th>\n",
       "      <th>genre</th>\n",
       "      <th>na_sales</th>\n",
       "      <th>eu_sales</th>\n",
       "      <th>jp_sales</th>\n",
       "      <th>other_sales</th>\n",
       "      <th>critic_score</th>\n",
       "      <th>user_score</th>\n",
       "      <th>rating</th>\n",
       "      <th>total_sales</th>\n",
       "    </tr>\n",
       "  </thead>\n",
       "  <tbody>\n",
       "    <tr>\n",
       "      <td>3</td>\n",
       "      <td>Wii Sports Resort</td>\n",
       "      <td>Wii</td>\n",
       "      <td>2009.0</td>\n",
       "      <td>Sports</td>\n",
       "      <td>15.61</td>\n",
       "      <td>10.93</td>\n",
       "      <td>3.28</td>\n",
       "      <td>2.95</td>\n",
       "      <td>80.0</td>\n",
       "      <td>8.0</td>\n",
       "      <td>6</td>\n",
       "      <td>32.77</td>\n",
       "    </tr>\n",
       "    <tr>\n",
       "      <td>8</td>\n",
       "      <td>New Super Mario Bros. Wii</td>\n",
       "      <td>Wii</td>\n",
       "      <td>2009.0</td>\n",
       "      <td>Platform</td>\n",
       "      <td>14.44</td>\n",
       "      <td>6.94</td>\n",
       "      <td>4.70</td>\n",
       "      <td>2.24</td>\n",
       "      <td>87.0</td>\n",
       "      <td>8.4</td>\n",
       "      <td>6</td>\n",
       "      <td>28.32</td>\n",
       "    </tr>\n",
       "    <tr>\n",
       "      <td>14</td>\n",
       "      <td>Kinect Adventures!</td>\n",
       "      <td>X360</td>\n",
       "      <td>2010.0</td>\n",
       "      <td>Misc</td>\n",
       "      <td>15.00</td>\n",
       "      <td>4.89</td>\n",
       "      <td>0.24</td>\n",
       "      <td>1.69</td>\n",
       "      <td>61.0</td>\n",
       "      <td>6.3</td>\n",
       "      <td>6</td>\n",
       "      <td>21.82</td>\n",
       "    </tr>\n",
       "    <tr>\n",
       "      <td>15</td>\n",
       "      <td>Wii Fit Plus</td>\n",
       "      <td>Wii</td>\n",
       "      <td>2009.0</td>\n",
       "      <td>Sports</td>\n",
       "      <td>9.01</td>\n",
       "      <td>8.49</td>\n",
       "      <td>2.53</td>\n",
       "      <td>1.77</td>\n",
       "      <td>80.0</td>\n",
       "      <td>7.4</td>\n",
       "      <td>6</td>\n",
       "      <td>21.80</td>\n",
       "    </tr>\n",
       "    <tr>\n",
       "      <td>16</td>\n",
       "      <td>Grand Theft Auto V</td>\n",
       "      <td>PS3</td>\n",
       "      <td>2013.0</td>\n",
       "      <td>Action</td>\n",
       "      <td>7.02</td>\n",
       "      <td>9.09</td>\n",
       "      <td>0.98</td>\n",
       "      <td>3.96</td>\n",
       "      <td>97.0</td>\n",
       "      <td>8.2</td>\n",
       "      <td>15</td>\n",
       "      <td>21.05</td>\n",
       "    </tr>\n",
       "  </tbody>\n",
       "</table>\n",
       "</div>"
      ],
      "text/plain": [
       "                         name platform  year_of_release     genre  na_sales  \\\n",
       "3           Wii Sports Resort      Wii           2009.0    Sports     15.61   \n",
       "8   New Super Mario Bros. Wii      Wii           2009.0  Platform     14.44   \n",
       "14         Kinect Adventures!     X360           2010.0      Misc     15.00   \n",
       "15               Wii Fit Plus      Wii           2009.0    Sports      9.01   \n",
       "16         Grand Theft Auto V      PS3           2013.0    Action      7.02   \n",
       "\n",
       "    eu_sales  jp_sales  other_sales  critic_score  user_score rating  \\\n",
       "3      10.93      3.28         2.95          80.0         8.0      6   \n",
       "8       6.94      4.70         2.24          87.0         8.4      6   \n",
       "14      4.89      0.24         1.69          61.0         6.3      6   \n",
       "15      8.49      2.53         1.77          80.0         7.4      6   \n",
       "16      9.09      0.98         3.96          97.0         8.2     15   \n",
       "\n",
       "    total_sales  \n",
       "3         32.77  \n",
       "8         28.32  \n",
       "14        21.82  \n",
       "15        21.80  \n",
       "16        21.05  "
      ]
     },
     "execution_count": 51,
     "metadata": {},
     "output_type": "execute_result"
    }
   ],
   "source": [
    "df_top10_2009.head()"
   ]
  },
  {
   "cell_type": "code",
   "execution_count": 52,
   "metadata": {},
   "outputs": [
    {
     "data": {
      "text/html": [
       "<div>\n",
       "<style scoped>\n",
       "    .dataframe tbody tr th:only-of-type {\n",
       "        vertical-align: middle;\n",
       "    }\n",
       "\n",
       "    .dataframe tbody tr th {\n",
       "        vertical-align: top;\n",
       "    }\n",
       "\n",
       "    .dataframe thead tr th {\n",
       "        text-align: left;\n",
       "    }\n",
       "\n",
       "    .dataframe thead tr:last-of-type th {\n",
       "        text-align: right;\n",
       "    }\n",
       "</style>\n",
       "<table border=\"1\" class=\"dataframe\">\n",
       "  <thead>\n",
       "    <tr>\n",
       "      <th></th>\n",
       "      <th>total_sales</th>\n",
       "    </tr>\n",
       "    <tr>\n",
       "      <th></th>\n",
       "      <th>sum</th>\n",
       "    </tr>\n",
       "    <tr>\n",
       "      <th>genre</th>\n",
       "      <th></th>\n",
       "    </tr>\n",
       "  </thead>\n",
       "  <tbody>\n",
       "    <tr>\n",
       "      <td>Action</td>\n",
       "      <td>759.46</td>\n",
       "    </tr>\n",
       "    <tr>\n",
       "      <td>Shooter</td>\n",
       "      <td>506.22</td>\n",
       "    </tr>\n",
       "    <tr>\n",
       "      <td>Sports</td>\n",
       "      <td>427.57</td>\n",
       "    </tr>\n",
       "    <tr>\n",
       "      <td>Role-Playing</td>\n",
       "      <td>333.04</td>\n",
       "    </tr>\n",
       "    <tr>\n",
       "      <td>Misc</td>\n",
       "      <td>297.85</td>\n",
       "    </tr>\n",
       "    <tr>\n",
       "      <td>Platform</td>\n",
       "      <td>153.08</td>\n",
       "    </tr>\n",
       "    <tr>\n",
       "      <td>Racing</td>\n",
       "      <td>149.64</td>\n",
       "    </tr>\n",
       "    <tr>\n",
       "      <td>Fighting</td>\n",
       "      <td>104.20</td>\n",
       "    </tr>\n",
       "    <tr>\n",
       "      <td>Simulation</td>\n",
       "      <td>100.45</td>\n",
       "    </tr>\n",
       "    <tr>\n",
       "      <td>Adventure</td>\n",
       "      <td>73.05</td>\n",
       "    </tr>\n",
       "    <tr>\n",
       "      <td>Strategy</td>\n",
       "      <td>46.30</td>\n",
       "    </tr>\n",
       "    <tr>\n",
       "      <td>Puzzle</td>\n",
       "      <td>40.21</td>\n",
       "    </tr>\n",
       "  </tbody>\n",
       "</table>\n",
       "</div>"
      ],
      "text/plain": [
       "             total_sales\n",
       "                     sum\n",
       "genre                   \n",
       "Action            759.46\n",
       "Shooter           506.22\n",
       "Sports            427.57\n",
       "Role-Playing      333.04\n",
       "Misc              297.85\n",
       "Platform          153.08\n",
       "Racing            149.64\n",
       "Fighting          104.20\n",
       "Simulation        100.45\n",
       "Adventure          73.05\n",
       "Strategy           46.30\n",
       "Puzzle             40.21"
      ]
     },
     "execution_count": 52,
     "metadata": {},
     "output_type": "execute_result"
    }
   ],
   "source": [
    "(df_top10_2009\n",
    "    .groupby('genre')\n",
    "    .agg({'total_sales':['sum']})\n",
    "    .sort_values(by=('total_sales', 'sum'), ascending=False)\n",
    ")"
   ]
  },
  {
   "cell_type": "markdown",
   "metadata": {},
   "source": [
    " - Самые прибыльные жанры: Action, Shooter, Sports\n",
    " - Самые низкодоходные жанры: Adventure, Strategy, Puzzle"
   ]
  },
  {
   "cell_type": "markdown",
   "metadata": {},
   "source": [
    "### Вывод\n",
    "- Мы видим что средний срок жизни платформы около 9 лет и актуальность данных с 2009 по 2015 год.\n",
    "- Исходя из данных мы видим 2-х лидеров по платформам PS4, XOne, 3DS, WiiU. Платформа PS4 на данный момент имеет самые высокие показатели продаж.\n",
    "- Мы видим для PS4, XOne есть прямая корреляция с отзывами критиков и отсутствие корреляции для отзывов покупателей.<br>Для 3DS, WiiU есть прямая корреляция с отзывами критиков и отзывами покупателей.\n",
    "- Самые прибыльные жанры: Action, Shooter, Sports\n",
    "- Самые низкодоходные жанры: Adventure, Strategy, Puzzle"
   ]
  },
  {
   "cell_type": "markdown",
   "metadata": {},
   "source": [
    "### Шаг 4. Портрет пользователей\n",
    "<a class=\"anchor\" id=\"chapter4\"></a>"
   ]
  },
  {
   "cell_type": "markdown",
   "metadata": {},
   "source": [
    "Составим портрет пользователя каждого региона.\n",
    "Определим для пользователя каждого региона (NA, EU, JP):\n",
    "- Самые популярные платформы (топ-5). Опишем различия в долях продаж.\n",
    "- Самые популярные жанры (топ-5). Поясним разницу.\n",
    "- Ответим на вопрос - влияет ли рейтинг ESRB на продажи в отдельном регионе?"
   ]
  },
  {
   "cell_type": "code",
   "execution_count": 53,
   "metadata": {},
   "outputs": [
    {
     "data": {
      "text/html": [
       "<div>\n",
       "<style scoped>\n",
       "    .dataframe tbody tr th:only-of-type {\n",
       "        vertical-align: middle;\n",
       "    }\n",
       "\n",
       "    .dataframe tbody tr th {\n",
       "        vertical-align: top;\n",
       "    }\n",
       "\n",
       "    .dataframe thead th {\n",
       "        text-align: right;\n",
       "    }\n",
       "</style>\n",
       "<table border=\"1\" class=\"dataframe\">\n",
       "  <thead>\n",
       "    <tr style=\"text-align: right;\">\n",
       "      <th></th>\n",
       "      <th>name</th>\n",
       "      <th>platform</th>\n",
       "      <th>year_of_release</th>\n",
       "      <th>genre</th>\n",
       "      <th>na_sales</th>\n",
       "      <th>eu_sales</th>\n",
       "      <th>jp_sales</th>\n",
       "      <th>other_sales</th>\n",
       "      <th>critic_score</th>\n",
       "      <th>user_score</th>\n",
       "      <th>rating</th>\n",
       "      <th>total_sales</th>\n",
       "    </tr>\n",
       "  </thead>\n",
       "  <tbody>\n",
       "    <tr>\n",
       "      <td>3</td>\n",
       "      <td>Wii Sports Resort</td>\n",
       "      <td>Wii</td>\n",
       "      <td>2009.0</td>\n",
       "      <td>Sports</td>\n",
       "      <td>15.61</td>\n",
       "      <td>10.93</td>\n",
       "      <td>3.28</td>\n",
       "      <td>2.95</td>\n",
       "      <td>80.0</td>\n",
       "      <td>8.0</td>\n",
       "      <td>6</td>\n",
       "      <td>32.77</td>\n",
       "    </tr>\n",
       "    <tr>\n",
       "      <td>8</td>\n",
       "      <td>New Super Mario Bros. Wii</td>\n",
       "      <td>Wii</td>\n",
       "      <td>2009.0</td>\n",
       "      <td>Platform</td>\n",
       "      <td>14.44</td>\n",
       "      <td>6.94</td>\n",
       "      <td>4.70</td>\n",
       "      <td>2.24</td>\n",
       "      <td>87.0</td>\n",
       "      <td>8.4</td>\n",
       "      <td>6</td>\n",
       "      <td>28.32</td>\n",
       "    </tr>\n",
       "    <tr>\n",
       "      <td>14</td>\n",
       "      <td>Kinect Adventures!</td>\n",
       "      <td>X360</td>\n",
       "      <td>2010.0</td>\n",
       "      <td>Misc</td>\n",
       "      <td>15.00</td>\n",
       "      <td>4.89</td>\n",
       "      <td>0.24</td>\n",
       "      <td>1.69</td>\n",
       "      <td>61.0</td>\n",
       "      <td>6.3</td>\n",
       "      <td>6</td>\n",
       "      <td>21.82</td>\n",
       "    </tr>\n",
       "    <tr>\n",
       "      <td>15</td>\n",
       "      <td>Wii Fit Plus</td>\n",
       "      <td>Wii</td>\n",
       "      <td>2009.0</td>\n",
       "      <td>Sports</td>\n",
       "      <td>9.01</td>\n",
       "      <td>8.49</td>\n",
       "      <td>2.53</td>\n",
       "      <td>1.77</td>\n",
       "      <td>80.0</td>\n",
       "      <td>7.4</td>\n",
       "      <td>6</td>\n",
       "      <td>21.80</td>\n",
       "    </tr>\n",
       "    <tr>\n",
       "      <td>16</td>\n",
       "      <td>Grand Theft Auto V</td>\n",
       "      <td>PS3</td>\n",
       "      <td>2013.0</td>\n",
       "      <td>Action</td>\n",
       "      <td>7.02</td>\n",
       "      <td>9.09</td>\n",
       "      <td>0.98</td>\n",
       "      <td>3.96</td>\n",
       "      <td>97.0</td>\n",
       "      <td>8.2</td>\n",
       "      <td>15</td>\n",
       "      <td>21.05</td>\n",
       "    </tr>\n",
       "  </tbody>\n",
       "</table>\n",
       "</div>"
      ],
      "text/plain": [
       "                         name platform  year_of_release     genre  na_sales  \\\n",
       "3           Wii Sports Resort      Wii           2009.0    Sports     15.61   \n",
       "8   New Super Mario Bros. Wii      Wii           2009.0  Platform     14.44   \n",
       "14         Kinect Adventures!     X360           2010.0      Misc     15.00   \n",
       "15               Wii Fit Plus      Wii           2009.0    Sports      9.01   \n",
       "16         Grand Theft Auto V      PS3           2013.0    Action      7.02   \n",
       "\n",
       "    eu_sales  jp_sales  other_sales  critic_score  user_score rating  \\\n",
       "3      10.93      3.28         2.95          80.0         8.0      6   \n",
       "8       6.94      4.70         2.24          87.0         8.4      6   \n",
       "14      4.89      0.24         1.69          61.0         6.3      6   \n",
       "15      8.49      2.53         1.77          80.0         7.4      6   \n",
       "16      9.09      0.98         3.96          97.0         8.2     15   \n",
       "\n",
       "    total_sales  \n",
       "3         32.77  \n",
       "8         28.32  \n",
       "14        21.82  \n",
       "15        21.80  \n",
       "16        21.05  "
      ]
     },
     "execution_count": 53,
     "metadata": {},
     "output_type": "execute_result"
    }
   ],
   "source": [
    "df_top10_2009.head()"
   ]
  },
  {
   "cell_type": "markdown",
   "metadata": {},
   "source": [
    "##### Ответим на вопросы для региона NA"
   ]
  },
  {
   "cell_type": "code",
   "execution_count": 54,
   "metadata": {},
   "outputs": [
    {
     "name": "stdout",
     "output_type": "stream",
     "text": [
      "sum_sales    1397.03\n",
      "dtype: float64\n",
      "          sum_sales\n",
      "platform           \n",
      "X360         407.49\n",
      "PS3          291.23\n",
      "Wii          235.69\n",
      "DS           120.61\n",
      "PS4           87.25\n",
      "XOne          78.85\n",
      "3DS           78.51\n",
      "PC            39.13\n",
      "WiiU          36.00\n",
      "PSP           22.27\n"
     ]
    }
   ],
   "source": [
    "platforms = (df_top10_2009\n",
    "    .groupby('platform')\n",
    "    .agg({'na_sales':['sum']})\n",
    "    .sort_values(by=('na_sales', 'sum'), ascending=False)\n",
    "    .copy()\n",
    ")\n",
    "platforms.columns = ['sum_sales']\n",
    "total_sum_sales = platforms.sum()\n",
    "print(total_sum_sales)\n",
    "print(platforms)"
   ]
  },
  {
   "cell_type": "code",
   "execution_count": 55,
   "metadata": {},
   "outputs": [
    {
     "data": {
      "text/plain": [
       "Text(0, 0.5, 'Процент от всех продаж')"
      ]
     },
     "execution_count": 55,
     "metadata": {},
     "output_type": "execute_result"
    },
    {
     "data": {
      "image/png": "[encoded data removed]",
      "text/plain": [
       "<Figure size 720x720 with 1 Axes>"
      ]
     },
     "metadata": {},
     "output_type": "display_data"
    }
   ],
   "source": [
    "platforms['sales_share'] = (platforms['sum_sales'] / total_sum_sales['sum_sales'])\n",
    "platforms['sales_share'].plot(kind='pie', autopct='%1.2f', figsize =(10,10),legend = True)\n",
    "plt.title('Доли продажи платформ в Северной Америке')\n",
    "plt.ylabel('Процент от всех продаж')"
   ]
  },
  {
   "cell_type": "code",
   "execution_count": 56,
   "metadata": {},
   "outputs": [
    {
     "name": "stdout",
     "output_type": "stream",
     "text": [
      "sum_sales    1397.03\n",
      "dtype: float64\n",
      "              sum_sales\n",
      "genre                  \n",
      "Action           346.16\n",
      "Shooter          258.30\n",
      "Sports           215.12\n",
      "Misc             161.40\n",
      "Role-Playing     122.64\n",
      "Platform          72.34\n",
      "Racing            59.13\n",
      "Fighting          52.60\n",
      "Simulation        42.48\n",
      "Adventure         29.18\n",
      "Puzzle            20.12\n",
      "Strategy          17.56\n"
     ]
    }
   ],
   "source": [
    "genres = (df_top10_2009\n",
    "    .groupby('genre')\n",
    "    .agg({'na_sales':['sum']})\n",
    "    .sort_values(by=('na_sales', 'sum'), ascending=False)\n",
    "    .copy()\n",
    ")\n",
    "genres.columns = ['sum_sales']\n",
    "total_sum_sales = genres.sum()\n",
    "print(total_sum_sales)\n",
    "print(genres)"
   ]
  },
  {
   "cell_type": "code",
   "execution_count": 57,
   "metadata": {},
   "outputs": [
    {
     "data": {
      "text/plain": [
       "Text(0, 0.5, 'Процент от всех продаж')"
      ]
     },
     "execution_count": 57,
     "metadata": {},
     "output_type": "execute_result"
    },
    {
     "data": {
      "image/png": "[encoded data removed]",
      "text/plain": [
       "<Figure size 720x720 with 1 Axes>"
      ]
     },
     "metadata": {},
     "output_type": "display_data"
    }
   ],
   "source": [
    "genres['sales_share'] = (genres['sum_sales'] / total_sum_sales['sum_sales'])\n",
    "genres['sales_share'].plot(kind='pie', autopct='%1.2f', figsize =(10,10),legend = True)\n",
    "plt.title('Доли продаж по жанрам в Северной Америке')\n",
    "plt.ylabel('Процент от всех продаж')"
   ]
  },
  {
   "cell_type": "code",
   "execution_count": 58,
   "metadata": {},
   "outputs": [
    {
     "name": "stdout",
     "output_type": "stream",
     "text": [
      "sum_sales    1397.03\n",
      "dtype: float64\n",
      "         sum_sales\n",
      "rating            \n",
      "15.0        421.32\n",
      "6.0         388.59\n",
      "13.0        211.96\n",
      "10.0        194.53\n",
      "no_data     179.31\n",
      "3.0           1.32\n"
     ]
    }
   ],
   "source": [
    "ratings = (df_top10_2009\n",
    "    .groupby('rating')\n",
    "    .agg({'na_sales':['sum']})\n",
    "    .sort_values(by=('na_sales', 'sum'), ascending=False)\n",
    "    .copy()\n",
    ")\n",
    "ratings.columns = ['sum_sales']\n",
    "total_sum_sales = ratings.sum()\n",
    "print(total_sum_sales)\n",
    "print(ratings)"
   ]
  },
  {
   "cell_type": "code",
   "execution_count": 59,
   "metadata": {},
   "outputs": [
    {
     "data": {
      "text/plain": [
       "Text(0, 0.5, 'Процент от всех продаж возраст от ')"
      ]
     },
     "execution_count": 59,
     "metadata": {},
     "output_type": "execute_result"
    },
    {
     "data": {
      "image/png": "[encoded data removed]",
      "text/plain": [
       "<Figure size 720x720 with 1 Axes>"
      ]
     },
     "metadata": {},
     "output_type": "display_data"
    }
   ],
   "source": [
    "ratings['sales_share'] = (ratings['sum_sales'] / total_sum_sales['sum_sales'])\n",
    "ratings['sales_share'].plot(kind='pie', autopct='%1.2f', figsize =(10,10),legend = True)\n",
    "plt.title('Доли продаж по рейтингам  ESRB в Северной Америке')\n",
    "plt.ylabel('Процент от всех продаж возраст от ')"
   ]
  },
  {
   "cell_type": "markdown",
   "metadata": {},
   "source": [
    " - Мы видим что в Севернной Америке топ 5 популярных платформ X360, PS3, Wii, PS4, DS.\n",
    " - Мы видим что в Севернной Америке топ 5 популярных жанров Action, Sports, Shooter, Misc, Role-Playing\n",
    " - Мы видим что в Севернной Америке продаються игры хорошо с возрастными рейтингами ERSB 6+(28%), 15+(30%, как основной сегмент выделим 15+"
   ]
  },
  {
   "cell_type": "markdown",
   "metadata": {},
   "source": [
    "##### Ответим на вопросы для региона EU"
   ]
  },
  {
   "cell_type": "code",
   "execution_count": 60,
   "metadata": {},
   "outputs": [
    {
     "name": "stdout",
     "output_type": "stream",
     "text": [
      "sum_sales    958.64\n",
      "dtype: float64\n",
      "          sum_sales\n",
      "platform           \n",
      "PS3          253.74\n",
      "X360         196.01\n",
      "Wii          124.11\n",
      "PS4          109.31\n",
      "PC            78.79\n",
      "3DS           58.94\n",
      "DS            53.89\n",
      "XOne          41.96\n",
      "WiiU          23.65\n",
      "PSP           18.24\n"
     ]
    }
   ],
   "source": [
    "platforms = (df_top10_2009\n",
    "    .groupby('platform')\n",
    "    .agg({'eu_sales':['sum']})\n",
    "    .sort_values(by=('eu_sales', 'sum'), ascending=False)\n",
    "    .copy()\n",
    ")\n",
    "platforms.columns = ['sum_sales']\n",
    "total_sum_sales = platforms.sum()\n",
    "print(total_sum_sales)\n",
    "print(platforms)"
   ]
  },
  {
   "cell_type": "code",
   "execution_count": 61,
   "metadata": {},
   "outputs": [
    {
     "data": {
      "text/plain": [
       "Text(0, 0.5, 'Процент от всех продаж')"
      ]
     },
     "execution_count": 61,
     "metadata": {},
     "output_type": "execute_result"
    },
    {
     "data": {
      "image/png": "[encoded data removed]",
      "text/plain": [
       "<Figure size 720x720 with 1 Axes>"
      ]
     },
     "metadata": {},
     "output_type": "display_data"
    }
   ],
   "source": [
    "platforms['sales_share'] = (platforms['sum_sales'] / total_sum_sales['sum_sales'])\n",
    "platforms['sales_share'].plot(kind='pie', autopct='%1.2f', figsize =(10,10),legend = True)\n",
    "plt.title('Доли продажи платформ в Европе')\n",
    "plt.ylabel('Процент от всех продаж')"
   ]
  },
  {
   "cell_type": "code",
   "execution_count": 62,
   "metadata": {},
   "outputs": [
    {
     "name": "stdout",
     "output_type": "stream",
     "text": [
      "sum_sales    958.64\n",
      "dtype: float64\n",
      "              sum_sales\n",
      "genre                  \n",
      "Action           256.07\n",
      "Shooter          174.82\n",
      "Sports           142.79\n",
      "Misc              83.48\n",
      "Role-Playing      78.12\n",
      "Racing            64.49\n",
      "Platform          46.61\n",
      "Simulation        35.78\n",
      "Fighting          25.56\n",
      "Adventure         22.25\n",
      "Strategy          16.69\n",
      "Puzzle            11.98\n"
     ]
    }
   ],
   "source": [
    "genres = (df_top10_2009\n",
    "    .groupby('genre')\n",
    "    .agg({'eu_sales':['sum']})\n",
    "    .sort_values(by=('eu_sales', 'sum'), ascending=False)\n",
    "    .copy()\n",
    ")\n",
    "genres.columns = ['sum_sales']\n",
    "total_sum_sales = genres.sum()\n",
    "print(total_sum_sales)\n",
    "print(genres)"
   ]
  },
  {
   "cell_type": "code",
   "execution_count": 63,
   "metadata": {},
   "outputs": [
    {
     "data": {
      "text/plain": [
       "Text(0, 0.5, 'Процент от всех продаж')"
      ]
     },
     "execution_count": 63,
     "metadata": {},
     "output_type": "execute_result"
    },
    {
     "data": {
      "image/png": "[encoded data removed]",
      "text/plain": [
       "<Figure size 720x720 with 1 Axes>"
      ]
     },
     "metadata": {},
     "output_type": "display_data"
    }
   ],
   "source": [
    "genres['sales_share'] = (genres['sum_sales'] / total_sum_sales['sum_sales'])\n",
    "genres['sales_share'].plot(kind='pie', autopct='%1.2f', figsize =(10,10),legend = True)\n",
    "plt.title('Доли продаж по жанрам в Европе')\n",
    "plt.ylabel('Процент от всех продаж')"
   ]
  },
  {
   "cell_type": "code",
   "execution_count": 64,
   "metadata": {},
   "outputs": [
    {
     "name": "stdout",
     "output_type": "stream",
     "text": [
      "sum_sales    958.64\n",
      "dtype: float64\n",
      "         sum_sales\n",
      "rating            \n",
      "15.0        307.12\n",
      "6.0         242.97\n",
      "no_data     155.28\n",
      "13.0        139.81\n",
      "10.0        113.46\n",
      "3.0           0.00\n"
     ]
    }
   ],
   "source": [
    "ratings = (df_top10_2009\n",
    "    .groupby('rating')\n",
    "    .agg({'eu_sales':['sum']})\n",
    "    .sort_values(by=('eu_sales', 'sum'), ascending=False)\n",
    "    .copy()\n",
    ")\n",
    "ratings.columns = ['sum_sales']\n",
    "total_sum_sales = ratings.sum()\n",
    "print(total_sum_sales)\n",
    "print(ratings)"
   ]
  },
  {
   "cell_type": "code",
   "execution_count": 65,
   "metadata": {},
   "outputs": [
    {
     "data": {
      "text/plain": [
       "Text(0, 0.5, 'Процент от всех продаж возраст от ')"
      ]
     },
     "execution_count": 65,
     "metadata": {},
     "output_type": "execute_result"
    },
    {
     "data": {
      "image/png": "[encoded data removed]",
      "text/plain": [
       "<Figure size 720x720 with 1 Axes>"
      ]
     },
     "metadata": {},
     "output_type": "display_data"
    }
   ],
   "source": [
    "ratings['sales_share'] = (ratings['sum_sales'] / total_sum_sales['sum_sales'])\n",
    "ratings['sales_share'].plot(kind='pie', autopct='%1.2f', figsize =(10,10),legend = True)\n",
    "plt.title('Доли продаж по рейтингам  ESRB в Европе')\n",
    "plt.ylabel('Процент от всех продаж возраст от ')"
   ]
  },
  {
   "cell_type": "markdown",
   "metadata": {},
   "source": [
    " Протрет пользователя в Европе:\n",
    " - платформа: PS3, X360, WiiU\n",
    " - жанры: Action, Sports, Shooter\n",
    " - Мы видим что в Европе продаються игры хорошо с возрастными рейтингами ERSB 6+(25%), 15+(32%), как основной сегмент выделим 15+"
   ]
  },
  {
   "cell_type": "markdown",
   "metadata": {},
   "source": [
    "##### Ответим на вопросы для региона JP"
   ]
  },
  {
   "cell_type": "code",
   "execution_count": 66,
   "metadata": {},
   "outputs": [
    {
     "name": "stdout",
     "output_type": "stream",
     "text": [
      "sum_sales    326.7\n",
      "dtype: float64\n",
      "          sum_sales\n",
      "platform           \n",
      "3DS           92.59\n",
      "PS3           66.99\n",
      "DS            52.11\n",
      "PSP           50.39\n",
      "Wii           34.32\n",
      "WiiU          12.34\n",
      "PS4           10.22\n",
      "X360           7.41\n",
      "XOne           0.33\n",
      "PC             0.00\n"
     ]
    }
   ],
   "source": [
    "platforms = (df_top10_2009\n",
    "    .groupby('platform')\n",
    "    .agg({'jp_sales':['sum']})\n",
    "    .sort_values(by=('jp_sales', 'sum'), ascending=False)\n",
    "    .copy()\n",
    ")\n",
    "platforms.columns = ['sum_sales']\n",
    "total_sum_sales = platforms.sum()\n",
    "print(total_sum_sales)\n",
    "print(platforms)"
   ]
  },
  {
   "cell_type": "code",
   "execution_count": 67,
   "metadata": {},
   "outputs": [
    {
     "data": {
      "text/plain": [
       "Text(0, 0.5, 'Процент от всех продаж')"
      ]
     },
     "execution_count": 67,
     "metadata": {},
     "output_type": "execute_result"
    },
    {
     "data": {
      "image/png": "[encoded data removed]",
      "text/plain": [
       "<Figure size 720x720 with 1 Axes>"
      ]
     },
     "metadata": {},
     "output_type": "display_data"
    }
   ],
   "source": [
    "platforms['sales_share'] = (platforms['sum_sales'] / total_sum_sales['sum_sales'])\n",
    "platforms['sales_share'].plot(kind='pie', autopct='%1.2f', figsize =(10,10),legend = True)\n",
    "plt.title('Доли продажи платформ в Японии')\n",
    "plt.ylabel('Процент от всех продаж')"
   ]
  },
  {
   "cell_type": "code",
   "execution_count": 68,
   "metadata": {},
   "outputs": [
    {
     "name": "stdout",
     "output_type": "stream",
     "text": [
      "sum_sales    326.7\n",
      "dtype: float64\n",
      "              sum_sales\n",
      "genre                  \n",
      "Role-Playing     107.15\n",
      "Action            71.70\n",
      "Misc              26.76\n",
      "Sports            22.68\n",
      "Platform          20.48\n",
      "Fighting          15.34\n",
      "Adventure         15.15\n",
      "Shooter           13.84\n",
      "Simulation        13.82\n",
      "Strategy           7.77\n",
      "Racing             7.01\n",
      "Puzzle             5.00\n"
     ]
    }
   ],
   "source": [
    "genres = (df_top10_2009\n",
    "    .groupby('genre')\n",
    "    .agg({'jp_sales':['sum']})\n",
    "    .sort_values(by=('jp_sales', 'sum'), ascending=False)\n",
    "    .copy()\n",
    ")\n",
    "genres.columns = ['sum_sales']\n",
    "total_sum_sales = genres.sum()\n",
    "print(total_sum_sales)\n",
    "print(genres)"
   ]
  },
  {
   "cell_type": "code",
   "execution_count": 69,
   "metadata": {},
   "outputs": [
    {
     "data": {
      "text/plain": [
       "Text(0, 0.5, 'Процент от всех продаж')"
      ]
     },
     "execution_count": 69,
     "metadata": {},
     "output_type": "execute_result"
    },
    {
     "data": {
      "image/png": "[encoded data removed]",
      "text/plain": [
       "<Figure size 720x720 with 1 Axes>"
      ]
     },
     "metadata": {},
     "output_type": "display_data"
    }
   ],
   "source": [
    "genres['sales_share'] = (genres['sum_sales'] / total_sum_sales['sum_sales'])\n",
    "genres['sales_share'].plot(kind='pie', autopct='%1.2f', figsize =(10,10),legend = True)\n",
    "plt.title('Доли продаж по жанрам в Японии')\n",
    "plt.ylabel('Процент от всех продаж')"
   ]
  },
  {
   "cell_type": "code",
   "execution_count": 70,
   "metadata": {},
   "outputs": [
    {
     "name": "stdout",
     "output_type": "stream",
     "text": [
      "sum_sales    326.7\n",
      "dtype: float64\n",
      "         sum_sales\n",
      "rating            \n",
      "no_data     171.53\n",
      "6.0          59.77\n",
      "13.0         42.78\n",
      "15.0         32.50\n",
      "10.0         20.12\n",
      "3.0           0.00\n"
     ]
    }
   ],
   "source": [
    "ratings = (df_top10_2009\n",
    "    .groupby('rating')\n",
    "    .agg({'jp_sales':['sum']})\n",
    "    .sort_values(by=('jp_sales', 'sum'), ascending=False)\n",
    "    .copy()\n",
    ")\n",
    "ratings.columns = ['sum_sales']\n",
    "total_sum_sales = ratings.sum()\n",
    "print(total_sum_sales)\n",
    "print(ratings)"
   ]
  },
  {
   "cell_type": "code",
   "execution_count": 71,
   "metadata": {},
   "outputs": [
    {
     "data": {
      "text/plain": [
       "Text(0, 0.5, 'Процент от всех продаж возраст от ')"
      ]
     },
     "execution_count": 71,
     "metadata": {},
     "output_type": "execute_result"
    },
    {
     "data": {
      "image/png": "[encoded data removed]",
      "text/plain": [
       "<Figure size 720x720 with 1 Axes>"
      ]
     },
     "metadata": {},
     "output_type": "display_data"
    }
   ],
   "source": [
    "ratings['sales_share'] = (ratings['sum_sales'] / total_sum_sales['sum_sales'])\n",
    "ratings['sales_share'].plot(kind='pie', autopct='%1.2f', figsize =(10,10),legend = True)\n",
    "plt.title('Доли продаж по рейтингам  ESRB в Японии')\n",
    "plt.ylabel('Процент от всех продаж возраст от ')"
   ]
  },
  {
   "cell_type": "markdown",
   "metadata": {},
   "source": [
    "Данные с рейтингом мы дополнительно предобработали во 2-м разделе с предобработкой. Теперь там стоит возраст категории и заменили пропуски на средние значения по всей базе чтобы не выкидывать большую часть данных"
   ]
  },
  {
   "cell_type": "markdown",
   "metadata": {},
   "source": [
    " - Мы видим что в Японии топ 5 популярных платформ PS3,X360, Wii, PS4, PC\n",
    " - Мы видим что в Японии топ 5 популярных жанров Role-playing, Action, Misc, Sports, Platform\n",
    " - Мы видим что в Японии более половины продаж игр без рейтинга ESRB и дать корректную оценку сложно. По тем данным что есть мы видим, что большая доля у сегмента 6+(18%) и у сегмента 13+(13%)."
   ]
  },
  {
   "cell_type": "markdown",
   "metadata": {},
   "source": [
    "### Вывод\n",
    "Протрет пользователя в Северной Америке:\n",
    " \n",
    " - платформа: X360, PS3, Wii.\n",
    " - жанры Action, Shooter, Sports\n",
    " - Мы видим что в Севернной Америке продаються игры хорошо с возрастными рейтингами ERSB 6+(28%), 15+(30%), как основной сегмент выделим 15+\n",
    " \n",
    " Протрет пользователя в Европе:\n",
    " - платформа: PS3, X360, WiiU\n",
    " - жанры: Action, Sports, Shooter\n",
    " - Мы видим что в Европе продаються игры хорошо с возрастными рейтингами ERSB 6+(25%), 15+(32%), как основной сегмент выделим 15+\n",
    " \n",
    " Протрет пользователя в Японии:\n",
    " - Мы видим что в Японии топ 5 популярных платформ PS3,X360, Wii\n",
    " - Мы видим что в Японии топ 5 популярных жанров Role-playing, Action, Misc\n",
    " - Мы видим что в Японии более половины продаж игр без рейтинга ESRB и дать корректную оценку сложно. По тем данным что есть мы видим, что большая доля у сегмента 6+(18%) и у сегмента 13+(13%).\n",
    " \n",
    " Мы видим, что портрет американского потребителя и европейского почти одинаковый. Японцы имеют аналогичный интерес по платформам, но больше предпочитают ролевый игры, думаю это связанно с большим развитием технологий и погружением страны в киберспорт. Возрастной рейтинг Японского пользователя по ERSB аналогичен американскому и европейскому, но более сконцентрирован на молодом и среднем возрастном сегменте от 6 и от 13 лет. Думаю это возможно связанно со сменой приоритетов после 15 лет и потребитель начинают вместо игр делать акцент больше на саморазвитии и карьере после 15 лет. А в Европе и Северной Америке типовой потребитель очень долго ищет себя в жизни и в это время отдыхает , развлекаеться вплоть до 30 лет. Так же по данным в Японии большая доля пропусков, возможно это связанно со спецификой рынка, который делает акцент на очень широкий круг не популярных игр, которые не имеюют международного рейтинга или спроса в других странах."
   ]
  },
  {
   "cell_type": "markdown",
   "metadata": {},
   "source": [
    "### Шаг 5. Проверка гипотез и пояснения\n",
    "<a class=\"anchor\" id=\"chapter5\"></a>"
   ]
  },
  {
   "cell_type": "markdown",
   "metadata": {},
   "source": [
    "Проверим гипотезы\n",
    "- Средние пользовательские рейтинги платформ Xbox One и PC одинаковые;\n",
    "- Средние пользовательские рейтинги жанров Action (англ. «действие», экшен-игры) и Sports (англ. «спортивные соревнования») разные."
   ]
  },
  {
   "cell_type": "markdown",
   "metadata": {},
   "source": [
    "Проверим гипотезу что средние пользовательские рейтинги платформ Xbox One и PC одинаковые c альфа = 5%. Сформируем сначала нулевую гипотезу для равенства двух генеральных совокупностей и если она не опровергнется, дальше попробуем опровергнуть альтернативную гипотезу, что средние пользовательские рейтинги платформ Xbox One и PC разные."
   ]
  },
  {
   "cell_type": "code",
   "execution_count": 72,
   "metadata": {},
   "outputs": [],
   "source": [
    "stata_xboxone= df_top10_2009.query('platform == \"XOne\" and user_score != \"NaN\"')['user_score'].reset_index(drop=True).copy()\n",
    "stata_pc = df_top10_2009.query('platform == \"PC\" and user_score != \"NaN\"')['user_score'].reset_index(drop=True).copy()\n",
    "\n",
    "mean_xboxone = stata_xboxone.mean()\n",
    "mean_pc = stata_pc.mean()"
   ]
  },
  {
   "cell_type": "markdown",
   "metadata": {},
   "source": [
    "Посмотрим и сравним дисперсию двух выборок, если она отличаеться более чем на 10% тогда в Т-тесте зададим параметр, equal_var = False(по умолчанию True) и дисперсия будет оценена для каждый выборки по отдельности, а не общей."
   ]
  },
  {
   "cell_type": "code",
   "execution_count": 73,
   "metadata": {},
   "outputs": [
    {
     "name": "stdout",
     "output_type": "stream",
     "text": [
      "1.6594932533733138\n",
      "2.3347565728864006\n"
     ]
    }
   ],
   "source": [
    "print(stata_xboxone.var())\n",
    "print(stata_pc.var())"
   ]
  },
  {
   "cell_type": "markdown",
   "metadata": {},
   "source": [
    "Мы видим что диспеерсии выборок отличается более чем на 10%, берем аргумент equal_var=False в Т-тесте."
   ]
  },
  {
   "cell_type": "code",
   "execution_count": 74,
   "metadata": {},
   "outputs": [
    {
     "name": "stdout",
     "output_type": "stream",
     "text": [
      "p-значение: 0.1328944413299349\n",
      "Не получилось отвергнуть нулевую гипотезу\n",
      "Средние пользовательские рейтинги платформ Xbox One и PC могут отличатся 6.477586206896552 != 6.690776699029126\n"
     ]
    }
   ],
   "source": [
    "alpha = .05 \n",
    "\n",
    "results = st.ttest_ind(\n",
    "    stata_xboxone, \n",
    "    stata_pc, equal_var=False)\n",
    "\n",
    "print('p-значение:', results.pvalue)\n",
    "\n",
    "if (results.pvalue < alpha):\n",
    "    print(\"Отвергаем нулевую гипотезу\")\n",
    "else:\n",
    "    print(\"Не получилось отвергнуть нулевую гипотезу\")\n",
    "    if mean_xboxone != mean_pc:\n",
    "        print('Средние пользовательские рейтинги платформ Xbox One и PC могут отличатся',mean_xboxone,'!=',mean_pc)"
   ]
  },
  {
   "cell_type": "markdown",
   "metadata": {},
   "source": [
    "У нас не получилось опровергнуть нулевую гипотезу о равнстве генеральных совокупностей с альфа= 5%, соответственно по альтернативной гипотезе средние пользовательские рейтинги могут отличатся, опровергнуть ее у нас не получилось. Полученное значение p-value говорит о том, что хотя средний пользовательский рейтинг и неодинаков, с вероятностью 13% такое или большее различие можно получить случайно. Это явно слишком большая вероятность, чтобы делать вывод о значимом различии между средними пользовательскими рейтингами, но мы можем допустить такой вариант, так как он не опровергнут."
   ]
  },
  {
   "cell_type": "markdown",
   "metadata": {},
   "source": [
    "У нас получилось опровергнуть нулевую гипотезу о равнстве генеральных совокупностей с альфа= 5%, соответственно делать какие либо выводы по данным от разных платформ мы не можем."
   ]
  },
  {
   "cell_type": "markdown",
   "metadata": {},
   "source": [
    "Проверим гипотезу что средние пользовательские рейтинги жанров Action и Sports разные c альфа = 5%. Сформируем сначала нулевую гипотезу для равенства двух генеральных совокупностей и если она не опровергнется, дальше попробуем опровергнуть альтернативную гипотезу, что средние пользовательские рейтинги жанров Action и Sports разные."
   ]
  },
  {
   "cell_type": "code",
   "execution_count": 75,
   "metadata": {},
   "outputs": [],
   "source": [
    "stata_Action= df_top10_2009.query('genre == \"Action\" and user_score != \"NaN\"')['user_score'].reset_index(drop=True).copy()\n",
    "stata_Sports = df_top10_2009.query('genre == \"Sports\" and user_score != \"NaN\"')['user_score'].reset_index(drop=True).copy()\n",
    "\n",
    "mean_Action = stata_Action.mean()\n",
    "mean_Sports = stata_Sports.mean()"
   ]
  },
  {
   "cell_type": "markdown",
   "metadata": {},
   "source": [
    "Посмотрим и сравним дисперсию двух выборок, если она отличаеться более чем на 10% тогда в Т-тесте зададим параметр, equal_var = False(по умолчанию True) и дисперсия будет оценена для каждый выборки по отдельности, а не общей."
   ]
  },
  {
   "cell_type": "code",
   "execution_count": 76,
   "metadata": {},
   "outputs": [
    {
     "name": "stdout",
     "output_type": "stream",
     "text": [
      "1.7615935554393802\n",
      "2.668756924079505\n"
     ]
    }
   ],
   "source": [
    "print(stata_Action.var())\n",
    "print(stata_Sports.var())"
   ]
  },
  {
   "cell_type": "markdown",
   "metadata": {},
   "source": [
    "Мы видим что диспеерсии выборок отличается более чем на 10%, берем аргумент equal_var=False в Т-тесте."
   ]
  },
  {
   "cell_type": "code",
   "execution_count": 77,
   "metadata": {},
   "outputs": [
    {
     "name": "stdout",
     "output_type": "stream",
     "text": [
      "p-значение: 8.65472911538364e-12\n",
      "Отвергаем нулевую гипотезу\n"
     ]
    }
   ],
   "source": [
    "alpha = .05 \n",
    "\n",
    "results = st.ttest_ind(\n",
    "    stata_Action, \n",
    "    stata_Sports, equal_var=False)\n",
    "\n",
    "print('p-значение:', results.pvalue)\n",
    "\n",
    "if (results.pvalue < alpha):\n",
    "    print(\"Отвергаем нулевую гипотезу\")\n",
    "else:\n",
    "    print(\"Не получилось отвергнуть нулевую гипотезу\")\n",
    "    if mean_Action != mean_Sports:\n",
    "        print('Средние пользовательские рейтинги платформ Xbox One и PC могут отличатся',mean_Action,'!=',mean_Sports)"
   ]
  },
  {
   "cell_type": "markdown",
   "metadata": {},
   "source": [
    "У нас получилось опровергнуть нулевую гипотезу о равнстве генеральных совокупностей с альфа= 5%, соответственно делать какие либо выводы по данным от разных жанров мы не можем."
   ]
  },
  {
   "cell_type": "markdown",
   "metadata": {},
   "source": [
    "### Вывод\n",
    "Мы проверили гипотезы:\n",
    "- Средние пользовательские рейтинги платформ Xbox One и PC одинаковые.\n",
    "У нас не получилось опровергнуть нулевую гипотезу о равнстве генеральных совокупностей с альфа= 5%, соответственно по альтернативной гипотезе средние пользовательские рейтинги могут отличатся, опровергнуть ее у нас не получилось.\n",
    "- Средние пользовательские рейтинги жанров Action (англ. «действие», экшен-игры) и Sports (англ. «спортивные соревнования») разные.\n",
    "У нас получилось опровергнуть нулевую гипотезу о равнстве генеральных совокупностей с альфа= 5%, соответственно делать какие либо выводы по данным от разных жанров мы не можем."
   ]
  },
  {
   "cell_type": "markdown",
   "metadata": {},
   "source": [
    "### Шаг 6. Общий вывод\n",
    "<a class=\"anchor\" id=\"chapter6\"></a>"
   ]
  },
  {
   "cell_type": "markdown",
   "metadata": {},
   "source": [
    "Мы исследовали данные и сделали выводы:\n",
    "- Мы видим что средний срок жизни платформы около 10 лет и актуальность данных с 2000 по 2015 год.\n",
    "- Исходя из данных мы видим 2-х лидеров по платформам PS4 и 3DS. Платформа PS4 на данный момент имеет стат показатели примерно в 2 раза лучше, чем 3DS у которой они на уровне средних за последние 15 лет.\n",
    "- Мы видим полное отсутствие корреляции между отзывами пользователей и продажами для топовой платформы, и прямую корреляцию между отзывами критиков и объемами продаж игр. Схожая ситуация и по других менее популярных платформ.\n",
    "- Самые прибыльные жанры: Action, Sports, Shooter.\n",
    "- Самые низкодоходные жанры: Simulation, Fighting, Adventure\n",
    "\n",
    "Составили портреты пользователей:<br>\n",
    "<br>\n",
    "Протрет пользователя в Северной Америке:\n",
    " \n",
    " - платформа: X360, PS3, Wii.\n",
    " - жанры Action, Shooter, Sports\n",
    " - Мы видим что в Севернной Америке продаються игры хорошо с возрастными рейтингами ERSB 6+ лет, яркого преобладания какого либо сегмента не выделяется.\n",
    " \n",
    " Протрет пользователя в Европе:\n",
    " - платформа: PS3, X360, WiiU, PS4\n",
    " - жанры: Action, Sports, Shooter\n",
    " - Мы видим что в Европе продаються игры хорошо с возрастными рейтингами ERSB 6+ лет , яркого преобладания какого либо сегмента не выделяется.\n",
    " \n",
    " Протрет пользователя в Японии:\n",
    " - Мы видим что в Японии топ 5 популярных платформ PS3,X360, Wii\n",
    " - Мы видим что в Японии топ 5 популярных жанров Role-playing, Action, Misc\n",
    " - Мы видим что в Японии более половины продаж игр без рейтинга ESRB и дать корректную оценку сложно. По тем данным что есть мы видим, что большая доля у сегмента 6+(18%) и у сегмента 13+(13%).\n",
    " \n",
    " Мы видим, что портрет американского потребителя и европейского почти одинаковый. Японцы имеют аналогичный интерес по платформам, но больше предпочитают ролевый игры, думаю это связанно с большим развитием технологий и погружением страны в киберспорт. Возрастной рейтинг Японского пользователя по ERSB аналогичен американскому и европейскому, но более сконцентрирован на молодом и среднем возрастном сегменте от 6 и от 13 лет. Думаю это возможно связанно со сменой приоритетов после 15 лет и потребитель начинают вместо игр делать акцент больше на саморазвитии и карьере после 15 лет. А в Европе и Северной Америке типовой потребитель очень долго ищет себя в жизни и в это время отдыхает , развлекаеться вплоть до 30 лет. Так же по данным в Японии большая доля пропусков, возможно это связанно со спецификой рынка, который делает акцент на очень широкий круг не популярных игр, которые не имеюют международного рейтинга или спроса в других странах.\n",
    " \n",
    "Мы проверили гипотезы:\n",
    "- Средние пользовательские рейтинги платформ Xbox One и PC одинаковые.\n",
    "У нас не получилось опровергнуть нулевую гипотезу о равнстве генеральных совокупностей с альфа= 5%, соответственно по альтернативной гипотезе средние пользовательские рейтинги могут отличатся, опровергнуть ее у нас не получилось.\n",
    "- Средние пользовательские рейтинги жанров Action (англ. «действие», экшен-игры) и Sports (англ. «спортивные соревнования») разные.\n",
    "У нас получилось опровергнуть нулевую гипотезу о равнстве генеральных совокупностей с альфа= 5%, соответственно делать какие либо выводы по данным от разных жанров мы не можем.\n",
    "\n",
    "Компании более выгодно акцентировать продажи на :\n",
    "- Северную Америку и Европу\n",
    "- платформы: X360, PS3, PS4\n",
    "- жанры: Action, Sports, Shooter\n",
    "- рейтинг ESRB от 10+ лет\n",
    "\n",
    "Продукт удовлетворяющий этим критериям охватит наибольшую аудиторию и получит большой спрос."
   ]
  }
 ],
 "metadata": {
  "kernelspec": {
   "display_name": "Python 3",
   "language": "python",
   "name": "python3"
  },
  "language_info": {
   "codemirror_mode": {
    "name": "ipython",
    "version": 3
   },
   "file_extension": ".py",
   "mimetype": "text/x-python",
   "name": "python",
   "nbconvert_exporter": "python",
   "pygments_lexer": "ipython3",
   "version": "3.7.4"
  }
 },
 "nbformat": 4,
 "nbformat_minor": 2
}
